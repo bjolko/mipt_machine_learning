{
 "cells": [
  {
   "cell_type": "markdown",
   "metadata": {},
   "source": [
    "## Предобработка данных и логистическая регрессия для задачи бинарной классификации"
   ]
  },
  {
   "cell_type": "markdown",
   "metadata": {},
   "source": [
    "## Programming assignment"
   ]
  },
  {
   "cell_type": "markdown",
   "metadata": {},
   "source": [
    "В задании вам будет предложено ознакомиться с основными техниками предобработки данных, а так же применить их для обучения модели логистической регрессии. Ответ потребуется загрузить в соответствующую форму в виде 6 текстовых файлов.\n",
    "\n",
    "Для выполнения задания требуется Python версии 2.7, а также актуальные версии библиотек:\n",
    "- NumPy: 1.10.4 и выше\n",
    "- Pandas: 0.17.1 и выше\n",
    "- Scikit-learn: 0.17 и выше"
   ]
  },
  {
   "cell_type": "code",
   "execution_count": 1,
   "metadata": {
    "collapsed": true
   },
   "outputs": [],
   "source": [
    "import pandas as pd\n",
    "import numpy as np\n",
    "import matplotlib\n",
    "from matplotlib import pyplot as plt\n",
    "import warnings\n",
    "warnings.filterwarnings('ignore')\n",
    "\n",
    "matplotlib.style.use('ggplot')\n",
    "%matplotlib inline"
   ]
  },
  {
   "cell_type": "markdown",
   "metadata": {},
   "source": [
    "## Описание датасета"
   ]
  },
  {
   "cell_type": "markdown",
   "metadata": {},
   "source": [
    "Задача: по 38 признакам, связанных с заявкой на грант (область исследований учёных, информация по их академическому бэкграунду, размер гранта, область, в которой он выдаётся) предсказать, будет ли заявка принята. Датасет включает в себя информацию по 6000 заявкам на гранты, которые были поданы в университете Мельбурна в период с 2004 по 2008 год.\n",
    "\n",
    "Полную версию данных с большим количеством признаков можно найти на https://www.kaggle.com/c/unimelb."
   ]
  },
  {
   "cell_type": "code",
   "execution_count": 2,
   "metadata": {},
   "outputs": [
    {
     "data": {
      "text/plain": [
       "(6000, 39)"
      ]
     },
     "execution_count": 2,
     "metadata": {},
     "output_type": "execute_result"
    }
   ],
   "source": [
    "data = pd.read_csv('data.csv')\n",
    "data.shape"
   ]
  },
  {
   "cell_type": "markdown",
   "metadata": {},
   "source": [
    "Выделим из датасета целевую переменную Grant.Status и обозначим её за y\n",
    "Теперь X обозначает обучающую выборку, y - ответы на ней"
   ]
  },
  {
   "cell_type": "code",
   "execution_count": 3,
   "metadata": {
    "collapsed": true
   },
   "outputs": [],
   "source": [
    "X = data.drop('Grant.Status', 1)\n",
    "y = data['Grant.Status']"
   ]
  },
  {
   "cell_type": "markdown",
   "metadata": {},
   "source": [
    "## Теория по логистической регрессии"
   ]
  },
  {
   "cell_type": "markdown",
   "metadata": {},
   "source": [
    "После осознания того, какую именно задачу требуется решить на этих данных, следующим шагом при реальном анализе был бы подбор подходящего метода. В данном задании выбор метода было произведён за вас, это логистическая регрессия. Кратко напомним вам используемую модель.\n",
    "\n",
    "Логистическая регрессия предсказывает вероятности принадлежности объекта к каждому классу. Сумма ответов логистической регрессии на одном объекте для всех классов равна единице.\n",
    "\n",
    "$$ \\sum_{k=1}^K \\pi_{ik} = 1, \\quad \\pi_k \\equiv P\\,(y_i = k \\mid x_i, \\theta), $$\n",
    "\n",
    "где:\n",
    "- $\\pi_{ik}$ - вероятность принадлежности объекта $x_i$ из выборки $X$ к классу $k$\n",
    "- $\\theta$ - внутренние параметры алгоритма, которые настраиваются в процессе обучения, в случае логистической регрессии - $w, b$\n",
    "\n",
    "Из этого свойства модели в случае бинарной классификации требуется вычислить лишь вероятность принадлежности объекта к одному из классов (вторая вычисляется из условия нормировки вероятностей). Эта вероятность вычисляется, используя логистическую функцию:\n",
    "\n",
    "$$ P\\,(y_i = 1 \\mid x_i, \\theta) = \\frac{1}{1 + \\exp(-w^T x_i-b)} $$\n",
    "\n",
    "Параметры $w$ и $b$ находятся, как решения следующей задачи оптимизации (указаны функционалы с L1 и L2 регуляризацией, с которыми вы познакомились в предыдущих заданиях):\n",
    "\n",
    "L2-regularization:\n",
    "\n",
    "$$ Q(X, y, \\theta) = \\frac{1}{2} w^T w + C \\sum_{i=1}^l \\log ( 1 + \\exp(-y_i (w^T x_i + b ) ) ) \\longrightarrow \\min\\limits_{w,b} $$\n",
    "\n",
    "L1-regularization:\n",
    "\n",
    "$$ Q(X, y, \\theta) = \\sum_{d=1}^D |w_d| + C \\sum_{i=1}^l \\log ( 1 + \\exp(-y_i (w^T x_i + b ) ) ) \\longrightarrow \\min\\limits_{w,b} $$\n",
    "\n",
    "$C$ - это стандартный гиперпараметр модели, который регулирует то, насколько сильно мы позволяем модели подстраиваться под данные."
   ]
  },
  {
   "cell_type": "markdown",
   "metadata": {},
   "source": [
    "## Предобработка данных"
   ]
  },
  {
   "cell_type": "markdown",
   "metadata": {},
   "source": [
    "Из свойств данной модели следует, что:\n",
    "- все $X$ должны быть числовыми данными (в случае наличия среди них категорий, их требуется некоторым способом преобразовать в вещественные числа)\n",
    "- среди $X$ не должно быть пропущенных значений (т.е. все пропущенные значения перед применением модели следует каким-то образом заполнить)\n",
    "\n",
    "Поэтому базовым этапом в предобработке любого датасета для логистической регрессии будет кодирование категориальных признаков, а так же удаление или интерпретация пропущенных значений (при наличии того или другого)."
   ]
  },
  {
   "cell_type": "code",
   "execution_count": 4,
   "metadata": {},
   "outputs": [
    {
     "data": {
      "text/html": [
       "<div>\n",
       "<style>\n",
       "    .dataframe thead tr:only-child th {\n",
       "        text-align: right;\n",
       "    }\n",
       "\n",
       "    .dataframe thead th {\n",
       "        text-align: left;\n",
       "    }\n",
       "\n",
       "    .dataframe tbody tr th {\n",
       "        vertical-align: top;\n",
       "    }\n",
       "</style>\n",
       "<table border=\"1\" class=\"dataframe\">\n",
       "  <thead>\n",
       "    <tr style=\"text-align: right;\">\n",
       "      <th></th>\n",
       "      <th>Grant.Status</th>\n",
       "      <th>Sponsor.Code</th>\n",
       "      <th>Grant.Category.Code</th>\n",
       "      <th>Contract.Value.Band...see.note.A</th>\n",
       "      <th>RFCD.Code.1</th>\n",
       "      <th>RFCD.Percentage.1</th>\n",
       "      <th>RFCD.Code.2</th>\n",
       "      <th>RFCD.Percentage.2</th>\n",
       "      <th>RFCD.Code.3</th>\n",
       "      <th>RFCD.Percentage.3</th>\n",
       "      <th>...</th>\n",
       "      <th>Dept.No..1</th>\n",
       "      <th>Faculty.No..1</th>\n",
       "      <th>With.PHD.1</th>\n",
       "      <th>No..of.Years.in.Uni.at.Time.of.Grant.1</th>\n",
       "      <th>Number.of.Successful.Grant.1</th>\n",
       "      <th>Number.of.Unsuccessful.Grant.1</th>\n",
       "      <th>A..1</th>\n",
       "      <th>A.1</th>\n",
       "      <th>B.1</th>\n",
       "      <th>C.1</th>\n",
       "    </tr>\n",
       "  </thead>\n",
       "  <tbody>\n",
       "    <tr>\n",
       "      <th>0</th>\n",
       "      <td>1</td>\n",
       "      <td>21A</td>\n",
       "      <td>50A</td>\n",
       "      <td>A</td>\n",
       "      <td>230202.0</td>\n",
       "      <td>50.0</td>\n",
       "      <td>230203.0</td>\n",
       "      <td>30.0</td>\n",
       "      <td>230204.0</td>\n",
       "      <td>20.0</td>\n",
       "      <td>...</td>\n",
       "      <td>3098.0</td>\n",
       "      <td>31.0</td>\n",
       "      <td>Yes</td>\n",
       "      <td>&gt;=0 to 5</td>\n",
       "      <td>2.0</td>\n",
       "      <td>0.0</td>\n",
       "      <td>0.0</td>\n",
       "      <td>4.0</td>\n",
       "      <td>2.0</td>\n",
       "      <td>0.0</td>\n",
       "    </tr>\n",
       "    <tr>\n",
       "      <th>1</th>\n",
       "      <td>1</td>\n",
       "      <td>4D</td>\n",
       "      <td>10A</td>\n",
       "      <td>D</td>\n",
       "      <td>320801.0</td>\n",
       "      <td>100.0</td>\n",
       "      <td>0.0</td>\n",
       "      <td>0.0</td>\n",
       "      <td>0.0</td>\n",
       "      <td>0.0</td>\n",
       "      <td>...</td>\n",
       "      <td>2553.0</td>\n",
       "      <td>25.0</td>\n",
       "      <td>Yes</td>\n",
       "      <td>&gt;=0 to 5</td>\n",
       "      <td>3.0</td>\n",
       "      <td>1.0</td>\n",
       "      <td>0.0</td>\n",
       "      <td>2.0</td>\n",
       "      <td>0.0</td>\n",
       "      <td>0.0</td>\n",
       "    </tr>\n",
       "    <tr>\n",
       "      <th>2</th>\n",
       "      <td>0</td>\n",
       "      <td>NaN</td>\n",
       "      <td>NaN</td>\n",
       "      <td>NaN</td>\n",
       "      <td>320602.0</td>\n",
       "      <td>50.0</td>\n",
       "      <td>321004.0</td>\n",
       "      <td>30.0</td>\n",
       "      <td>321015.0</td>\n",
       "      <td>20.0</td>\n",
       "      <td>...</td>\n",
       "      <td>2813.0</td>\n",
       "      <td>25.0</td>\n",
       "      <td>NaN</td>\n",
       "      <td>Less than 0</td>\n",
       "      <td>1.0</td>\n",
       "      <td>5.0</td>\n",
       "      <td>0.0</td>\n",
       "      <td>7.0</td>\n",
       "      <td>2.0</td>\n",
       "      <td>0.0</td>\n",
       "    </tr>\n",
       "    <tr>\n",
       "      <th>3</th>\n",
       "      <td>0</td>\n",
       "      <td>51C</td>\n",
       "      <td>20C</td>\n",
       "      <td>A</td>\n",
       "      <td>291503.0</td>\n",
       "      <td>60.0</td>\n",
       "      <td>321402.0</td>\n",
       "      <td>40.0</td>\n",
       "      <td>0.0</td>\n",
       "      <td>0.0</td>\n",
       "      <td>...</td>\n",
       "      <td>2553.0</td>\n",
       "      <td>25.0</td>\n",
       "      <td>NaN</td>\n",
       "      <td>more than 15</td>\n",
       "      <td>2.0</td>\n",
       "      <td>1.0</td>\n",
       "      <td>5.0</td>\n",
       "      <td>6.0</td>\n",
       "      <td>9.0</td>\n",
       "      <td>1.0</td>\n",
       "    </tr>\n",
       "    <tr>\n",
       "      <th>4</th>\n",
       "      <td>0</td>\n",
       "      <td>24D</td>\n",
       "      <td>30B</td>\n",
       "      <td>NaN</td>\n",
       "      <td>380107.0</td>\n",
       "      <td>100.0</td>\n",
       "      <td>0.0</td>\n",
       "      <td>0.0</td>\n",
       "      <td>0.0</td>\n",
       "      <td>0.0</td>\n",
       "      <td>...</td>\n",
       "      <td>2923.0</td>\n",
       "      <td>25.0</td>\n",
       "      <td>NaN</td>\n",
       "      <td>Less than 0</td>\n",
       "      <td>0.0</td>\n",
       "      <td>2.0</td>\n",
       "      <td>0.0</td>\n",
       "      <td>0.0</td>\n",
       "      <td>0.0</td>\n",
       "      <td>0.0</td>\n",
       "    </tr>\n",
       "  </tbody>\n",
       "</table>\n",
       "<p>5 rows × 39 columns</p>\n",
       "</div>"
      ],
      "text/plain": [
       "   Grant.Status Sponsor.Code Grant.Category.Code  \\\n",
       "0             1          21A                 50A   \n",
       "1             1           4D                 10A   \n",
       "2             0          NaN                 NaN   \n",
       "3             0          51C                 20C   \n",
       "4             0          24D                 30B   \n",
       "\n",
       "  Contract.Value.Band...see.note.A  RFCD.Code.1  RFCD.Percentage.1  \\\n",
       "0                               A      230202.0               50.0   \n",
       "1                               D      320801.0              100.0   \n",
       "2                              NaN     320602.0               50.0   \n",
       "3                               A      291503.0               60.0   \n",
       "4                              NaN     380107.0              100.0   \n",
       "\n",
       "   RFCD.Code.2  RFCD.Percentage.2  RFCD.Code.3  RFCD.Percentage.3 ...   \\\n",
       "0     230203.0               30.0     230204.0               20.0 ...    \n",
       "1          0.0                0.0          0.0                0.0 ...    \n",
       "2     321004.0               30.0     321015.0               20.0 ...    \n",
       "3     321402.0               40.0          0.0                0.0 ...    \n",
       "4          0.0                0.0          0.0                0.0 ...    \n",
       "\n",
       "   Dept.No..1  Faculty.No..1  With.PHD.1  \\\n",
       "0      3098.0           31.0        Yes    \n",
       "1      2553.0           25.0        Yes    \n",
       "2      2813.0           25.0         NaN   \n",
       "3      2553.0           25.0         NaN   \n",
       "4      2923.0           25.0         NaN   \n",
       "\n",
       "   No..of.Years.in.Uni.at.Time.of.Grant.1  Number.of.Successful.Grant.1  \\\n",
       "0                                >=0 to 5                           2.0   \n",
       "1                                >=0 to 5                           3.0   \n",
       "2                             Less than 0                           1.0   \n",
       "3                            more than 15                           2.0   \n",
       "4                             Less than 0                           0.0   \n",
       "\n",
       "   Number.of.Unsuccessful.Grant.1  A..1  A.1  B.1  C.1  \n",
       "0                             0.0   0.0  4.0  2.0  0.0  \n",
       "1                             1.0   0.0  2.0  0.0  0.0  \n",
       "2                             5.0   0.0  7.0  2.0  0.0  \n",
       "3                             1.0   5.0  6.0  9.0  1.0  \n",
       "4                             2.0   0.0  0.0  0.0  0.0  \n",
       "\n",
       "[5 rows x 39 columns]"
      ]
     },
     "execution_count": 4,
     "metadata": {},
     "output_type": "execute_result"
    }
   ],
   "source": [
    "data.head()"
   ]
  },
  {
   "cell_type": "markdown",
   "metadata": {},
   "source": [
    "Видно, что в датасете есть как числовые, так и категориальные признаки. Получим списки их названий:"
   ]
  },
  {
   "cell_type": "code",
   "execution_count": 5,
   "metadata": {
    "collapsed": true
   },
   "outputs": [],
   "source": [
    "numeric_cols = ['RFCD.Percentage.1', 'RFCD.Percentage.2', 'RFCD.Percentage.3', \n",
    "                'RFCD.Percentage.4', 'RFCD.Percentage.5',\n",
    "                'SEO.Percentage.1', 'SEO.Percentage.2', 'SEO.Percentage.3',\n",
    "                'SEO.Percentage.4', 'SEO.Percentage.5',\n",
    "                'Year.of.Birth.1', 'Number.of.Successful.Grant.1', 'Number.of.Unsuccessful.Grant.1']\n",
    "categorical_cols = list(set(X.columns.values.tolist()) - set(numeric_cols))"
   ]
  },
  {
   "cell_type": "markdown",
   "metadata": {},
   "source": [
    "Также в нём присутствуют пропущенные значения. Очевидным решением будет исключение всех данных, у которых пропущено хотя бы одно значение. Сделаем это:"
   ]
  },
  {
   "cell_type": "code",
   "execution_count": 6,
   "metadata": {},
   "outputs": [
    {
     "data": {
      "text/plain": [
       "(213, 39)"
      ]
     },
     "execution_count": 6,
     "metadata": {},
     "output_type": "execute_result"
    }
   ],
   "source": [
    "data.dropna().shape"
   ]
  },
  {
   "cell_type": "markdown",
   "metadata": {},
   "source": [
    "Видно, что тогда мы выбросим почти все данные, и такой метод решения в данном случае не сработает.\n",
    "\n",
    "Пропущенные значения можно так же интерпретировать, для этого существует несколько способов, они различаются для категориальных и вещественных признаков.\n",
    "\n",
    "Для вещественных признаков:\n",
    "- заменить на 0 (данный признак давать вклад в предсказание для данного объекта не будет)\n",
    "- заменить на среднее (каждый пропущенный признак будет давать такой же вклад, как и среднее значение признака на датасете)\n",
    "\n",
    "Для категориальных:\n",
    "- интерпретировать пропущенное значение, как ещё одну категорию (данный способ является самым естественным, так как в случае категорий у нас есть уникальная возможность не потерять информацию о наличии пропущенных значений; обратите внимание, что в случае вещественных признаков данная информация неизбежно теряется)"
   ]
  },
  {
   "cell_type": "markdown",
   "metadata": {},
   "source": [
    "##  Задание 0. Обработка пропущенных значений.\n",
    "1. Заполните пропущенные вещественные значения в X нулями и средними по столбцам, назовите полученные датафреймы X_real_zeros и X_real_mean соответственно. Для подсчёта средних используйте описанную ниже функцию calculate_means, которой требуется передать на вход вещественные признаки из исходного датафрейма.\n",
    "2. Все категориальные признаки в X преобразуйте в текст / string, пропущенные значения требуется также преобразовать в какие-либо string, которые не являются категориями (например, 'NA'), полученный датафрейм назовите X_cat.\n",
    "\n",
    "Для объединения выборок здесь и далее в задании рекомендуется использовать функции\n",
    "\n",
    "    np.hstack(...)\n",
    "    np.vstack(...)"
   ]
  },
  {
   "cell_type": "code",
   "execution_count": 7,
   "metadata": {
    "collapsed": true
   },
   "outputs": [],
   "source": [
    "def calculate_means(numeric_data):\n",
    "    means = np.zeros(numeric_data.shape[1])\n",
    "    for j in range(numeric_data.shape[1]):\n",
    "        to_sum = numeric_data.iloc[:,j]\n",
    "        indices = np.nonzero(~numeric_data.iloc[:,j].isnull())[0]\n",
    "        correction = np.amax(to_sum[indices])\n",
    "        to_sum /= correction\n",
    "        for i in indices:\n",
    "            means[j] += to_sum[i]\n",
    "        means[j] /= indices.size\n",
    "        means[j] *= correction\n",
    "    return pd.Series(means, numeric_data.columns)"
   ]
  },
  {
   "cell_type": "code",
   "execution_count": 8,
   "metadata": {},
   "outputs": [
    {
     "data": {
      "text/plain": [
       "Person.ID.1    object\n",
       "C.1            object\n",
       "SEO.Code.4     object\n",
       "SEO.Code.2     object\n",
       "dtype: object"
      ]
     },
     "execution_count": 8,
     "metadata": {},
     "output_type": "execute_result"
    }
   ],
   "source": [
    "X_numeric = X[numeric_cols]\n",
    "\n",
    "X_real_zeros = X_numeric.fillna(0)\n",
    "\n",
    "X_real_mean = X_numeric.fillna(X_numeric.mean())\n",
    "\n",
    "X_cat = X[categorical_cols].fillna('NA').applymap(str)\n",
    "\n",
    "X_cat.describe()\n",
    "X_cat.dtypes[:4]"
   ]
  },
  {
   "cell_type": "markdown",
   "metadata": {},
   "source": [
    "## Преобразование категориальных признаков."
   ]
  },
  {
   "cell_type": "markdown",
   "metadata": {},
   "source": [
    "В предыдущей ячейке мы разделили наш датасет ещё на две части: в одной присутствуют только вещественные признаки, в другой только категориальные. Это понадобится нам для раздельной последующей обработке этих данных, а так же для сравнения качества работы тех или иных методов.\n",
    "\n",
    "Для использования модели регрессии требуется преобразовать категориальные признаки в вещественные. Рассмотрим основной способ преоборазования категориальных признаков в вещественные: one-hot encoding. Его идея заключается в том, что мы преобразуем категориальный признак при помощи бинарного кода: каждой категории ставим в соответствие набор из нулей и единиц.\n",
    "\n",
    "Посмотрим, как данный метод работает на простом наборе данных."
   ]
  },
  {
   "cell_type": "code",
   "execution_count": 9,
   "metadata": {},
   "outputs": [
    {
     "name": "stdout",
     "output_type": "stream",
     "text": [
      "Исходные данные:\n",
      "\n",
      "  nationality     sex\n",
      "0    American    male\n",
      "1    European  female\n",
      "2       Asian    male\n",
      "3    European  female\n",
      "\n",
      "Закодированные данные:\n",
      "\n",
      "[[ 1.  0.  0.  0.  1.]\n",
      " [ 0.  0.  1.  1.  0.]\n",
      " [ 0.  1.  0.  0.  1.]\n",
      " [ 0.  0.  1.  1.  0.]]\n"
     ]
    }
   ],
   "source": [
    "from sklearn.linear_model import LogisticRegression as LR\n",
    "from sklearn.feature_extraction import DictVectorizer as DV\n",
    "\n",
    "categorial_data = pd.DataFrame({'sex': ['male', 'female', 'male', 'female'], \n",
    "                                'nationality': ['American', 'European', 'Asian', 'European']})\n",
    "print('Исходные данные:\\n')\n",
    "print(categorial_data)\n",
    "encoder = DV(sparse = False)\n",
    "encoded_data = encoder.fit_transform(categorial_data.T.to_dict().values())\n",
    "print('\\nЗакодированные данные:\\n')\n",
    "print(encoded_data)"
   ]
  },
  {
   "cell_type": "markdown",
   "metadata": {},
   "source": [
    "Как видно, в первые три колонки оказалась закодированна информация о стране, а во вторые две - о поле. При этом для совпадающих элементов выборки строки будут полностью совпадать. Также из примера видно, что кодирование признаков сильно увеличивает их количество, но полностью сохраняет информацию, в том числе о наличии пропущенных значений (их наличие просто становится одним из бинарных признаков в преобразованных данных).\n",
    "\n",
    "Теперь применим one-hot encoding к категориальным признакам из исходного датасета. Обратите внимание на общий для всех методов преобработки данных интерфейс. Функция\n",
    "\n",
    "    encoder.fit_transform(X)\n",
    "    \n",
    "позволяет вычислить необходимые параметры преобразования, впоследствии к новым данным можно уже применять функцию\n",
    "\n",
    "    encoder.transform(X)\n",
    "    \n",
    "Очень важно применять одинаковое преобразование как к обучающим, так и тестовым данным, потому что в противном случае вы получите непредсказуемые, и, скорее всего, плохие результаты. В частности, если вы отдельно закодируете обучающую и тестовую выборку, то получите вообще говоря разные коды для одних и тех же признаков, и ваше решение работать не будет.\n",
    "\n",
    "Также параметры многих преобразований (например, рассмотренное ниже масштабирование) нельзя вычислять одновременно на данных из обучения и теста, потому что иначе подсчитанные на тесте метрики качества будут давать смещённые оценки на качество работы алгоритма. Кодирование категориальных признаков не считает на обучающей выборке никаких параметров, поэтому его можно применять сразу к всему датасету."
   ]
  },
  {
   "cell_type": "code",
   "execution_count": 10,
   "metadata": {},
   "outputs": [
    {
     "name": "stdout",
     "output_type": "stream",
     "text": [
      "Pandas Shape: (6000, 5593) \n",
      "\n",
      "Encoder Shape: (6000, 5593)\n"
     ]
    }
   ],
   "source": [
    "encoder = DV(sparse = False)\n",
    "X_cat_oh = encoder.fit_transform(X_cat.T.to_dict().values())\n",
    "\n",
    "print('Pandas Shape: {} \\n\\nEncoder Shape: {}'.format(pd.get_dummies(X_cat).shape, X_cat_oh.shape))\n",
    "\n",
    "X_cat_oh = pd.get_dummies(X_cat)"
   ]
  },
  {
   "cell_type": "markdown",
   "metadata": {},
   "source": [
    "Для построения метрики качества по результату обучения требуется разделить исходный датасет на обучающую и тестовую выборки.\n",
    "\n",
    "Обращаем внимание на заданный параметр для генератора случайных чисел: random_state. Так как результаты на обучении и тесте будут зависеть от того, как именно вы разделите объекты, то предлагается использовать заранее определённое значение для получение результатов, согласованных с ответами в системе проверки заданий."
   ]
  },
  {
   "cell_type": "code",
   "execution_count": 11,
   "metadata": {},
   "outputs": [
    {
     "name": "stderr",
     "output_type": "stream",
     "text": [
      "C:\\Users\\u6335\\AppData\\Local\\Continuum\\anaconda3\\lib\\site-packages\\sklearn\\cross_validation.py:41: DeprecationWarning: This module was deprecated in version 0.18 in favor of the model_selection module into which all the refactored classes and functions are moved. Also note that the interface of the new CV iterators are different from that of this module. This module will be removed in 0.20.\n",
      "  \"This module will be removed in 0.20.\", DeprecationWarning)\n"
     ]
    }
   ],
   "source": [
    "from sklearn.cross_validation import train_test_split\n",
    "\n",
    "(X_train_real_zeros, \n",
    " X_test_real_zeros, \n",
    " y_train, y_test) = train_test_split(X_real_zeros, y, \n",
    "                                     test_size=0.3, \n",
    "                                     random_state=0)\n",
    "(X_train_real_mean, \n",
    " X_test_real_mean) = train_test_split(X_real_mean, \n",
    "                                      test_size=0.3, \n",
    "                                      random_state=0)\n",
    "(X_train_cat_oh,\n",
    " X_test_cat_oh) = train_test_split(X_cat_oh, \n",
    "                                   test_size=0.3, \n",
    "                                   random_state=0)"
   ]
  },
  {
   "cell_type": "markdown",
   "metadata": {},
   "source": [
    "## Описание классов"
   ]
  },
  {
   "cell_type": "markdown",
   "metadata": {},
   "source": [
    "Итак, мы получили первые наборы данных, для которых выполнены оба ограничения логистической регрессии на входные данные. Обучим на них регрессию, используя имеющийся в библиотеке sklearn функционал по подбору гиперпараметров модели\n",
    "    \n",
    "    optimizer = GridSearchCV(estimator, param_grid)\n",
    "\n",
    "где:\n",
    "- estimator - обучающий алгоритм, для которого будет производиться подбор параметров\n",
    "- param_grid - словарь параметров, ключами которого являются строки-названия, которые передаются алгоритму estimator, а значения - набор параметров для перебора\n",
    "\n",
    "Данный класс выполняет кросс-валидацию обучающей выборки для каждого набора параметров и находит те, на которых алгоритм работает лучше всего. Этот метод позволяет настраивать гиперпараметры по обучающей выборке, избегая переобучения. Некоторые опциональные параметры вызова данного класса, которые нам понадобятся:\n",
    "- scoring - функционал качества, максимум которого ищется кросс валидацией, по умолчанию используется функция score() класса esimator\n",
    "- n_jobs - позволяет ускорить кросс-валидацию, выполняя её параллельно, число определяет количество одновременно запущенных задач\n",
    "- cv - количество фолдов, на которые разбивается выборка при кросс-валидации\n",
    "\n",
    "После инициализации класса GridSearchCV, процесс подбора параметров запускается следующим методом:\n",
    "\n",
    "    optimizer.fit(X, y)\n",
    "    \n",
    "На выходе для получения предсказаний можно пользоваться функцией\n",
    "\n",
    "    optimizer.predict(X)\n",
    "    \n",
    "для меток или\n",
    "\n",
    "    optimizer.predict_proba(X)\n",
    "    \n",
    "для вероятностей (в случае использования логистической регрессии).\n",
    "    \n",
    "Также можно напрямую получить оптимальный класс estimator и оптимальные параметры, так как они является атрибутами класса GridSearchCV:\n",
    "- best\\_estimator\\_ - лучший алгоритм\n",
    "- best\\_params\\_ - лучший набор параметров\n",
    "\n",
    "Класс логистической регрессии выглядит следующим образом:\n",
    "\n",
    "    estimator = LogisticRegression(penalty)\n",
    "   \n",
    "где penalty принимает либо значение 'l2', либо 'l1'. По умолчанию устанавливается значение 'l2', и везде в задании, если об этом не оговорено особо, предполагается использование логистической регрессии с L2-регуляризацией."
   ]
  },
  {
   "cell_type": "markdown",
   "metadata": {},
   "source": [
    "## Задание 1. Сравнение способов заполнения вещественных пропущенных значений.\n",
    "1. Составьте две обучающие выборки из вещественных и категориальных признаков: в одной вещественные признаки, где пропущенные значения заполнены нулями, в другой - средними. Рекомендуется записывать в выборки сначала вещественные, а потом категориальные признаки.\n",
    "2. Обучите на них логистическую регрессию, подбирая параметры из заданной сетки param_grid по методу кросс-валидации с числом фолдов cv=3. В качестве оптимизируемой функции используйте заданную по умолчанию.\n",
    "3. Постройте два графика оценок точности +- их стандратного отклонения в зависимости от гиперпараметра и убедитесь, что вы действительно нашли её максимум. Также обратите внимание на большую дисперсию получаемых оценок (уменьшить её можно увеличением числа фолдов cv).\n",
    "4. Получите две метрики качества AUC ROC на тестовой выборке и сравните их между собой. Какой способ заполнения пропущенных вещественных значений работает лучше? В дальнейшем для выполнения задания в качестве вещественных признаков используйте ту выборку, которая даёт лучшее качество на тесте.\n",
    "5. Передайте два значения AUC ROC (сначала для выборки, заполненной средними, потом для выборки, заполненной нулями) в функцию write_answer_1 и запустите её. Полученный файл является ответом на 1 задание.\n",
    "\n",
    "Информация для интересующихся: вообще говоря, не вполне логично оптимизировать на кросс-валидации заданный по умолчанию в классе логистической регрессии функционал accuracy, а измерять на тесте AUC ROC, но это, как и ограничение размера выборки, сделано для ускорения работы процесса кросс-валидации."
   ]
  },
  {
   "cell_type": "code",
   "execution_count": 12,
   "metadata": {},
   "outputs": [
    {
     "name": "stderr",
     "output_type": "stream",
     "text": [
      "C:\\Users\\u6335\\AppData\\Local\\Continuum\\anaconda3\\lib\\site-packages\\sklearn\\grid_search.py:42: DeprecationWarning: This module was deprecated in version 0.18 in favor of the model_selection module into which all the refactored classes and functions are moved. This module will be removed in 0.20.\n",
      "  DeprecationWarning)\n"
     ]
    },
    {
     "name": "stdout",
     "output_type": "stream",
     "text": [
      "Wall time: 18 s\n"
     ]
    }
   ],
   "source": [
    "%%time\n",
    "\n",
    "from sklearn.linear_model import LogisticRegression\n",
    "from sklearn.grid_search import GridSearchCV\n",
    "from sklearn.metrics import roc_auc_score\n",
    "\n",
    "def plot_scores(optimizer):\n",
    "    scores = [[item[0]['C'], \n",
    "               item[1], \n",
    "               (np.sum((item[2]-item[1])**2)/(item[2].size-1))**0.5] for item in optimizer.grid_scores_]\n",
    "    scores = np.array(scores)\n",
    "    plt.semilogx(scores[:,0], scores[:,1])\n",
    "    plt.fill_between(scores[:,0], scores[:,1]-scores[:,2], \n",
    "                                  scores[:,1]+scores[:,2], alpha=0.3)\n",
    "    plt.show()\n",
    "    \n",
    "def write_answer_1(auc_1, auc_2):\n",
    "    auc = (auc_1 + auc_2)/2\n",
    "    with open(\"preprocessing_lr_answer1.txt\", \"w\") as fout:\n",
    "        fout.write(str(auc))\n",
    "        \n",
    "param_grid = {'C': [0.01, 0.05, 0.1, 0.5, 1, 5, 10]}\n",
    "cv = 3\n",
    "\n",
    "X_train_zeros = pd.concat([X_train_real_zeros, X_train_cat_oh], axis=1)\n",
    "X_train_means = pd.concat([X_train_real_mean, X_train_cat_oh], axis=1)\n",
    "\n",
    "X_test_zeros = pd.concat([X_test_real_zeros, X_test_cat_oh], axis=1)\n",
    "X_test_means = pd.concat([X_test_real_mean, X_test_cat_oh], axis=1)\n",
    "\n",
    "classifier = LogisticRegression(random_state = 0)\n",
    "\n",
    "grid_cv_zeros = GridSearchCV(classifier, param_grid, cv = cv)\n",
    "grid_cv_means = GridSearchCV(classifier, param_grid, cv = cv)\n",
    "\n",
    "grid_cv_zeros.fit(X_train_zeros, y_train)\n",
    "grid_cv_means.fit(X_train_means, y_train)"
   ]
  },
  {
   "cell_type": "code",
   "execution_count": 13,
   "metadata": {},
   "outputs": [
    {
     "name": "stdout",
     "output_type": "stream",
     "text": [
      "Zeros Best params: {'C': 0.05} \n",
      "Means Best params: {'C': 0.1}\n"
     ]
    }
   ],
   "source": [
    "print('Zeros Best params: {} \\nMeans Best params: {}'.format(grid_cv_zeros.best_params_, grid_cv_means.best_params_))"
   ]
  },
  {
   "cell_type": "code",
   "execution_count": 14,
   "metadata": {},
   "outputs": [
    {
     "data": {
      "image/png": "[encoded data removed]",
      "text/plain": [
       "<matplotlib.figure.Figure at 0x2a0c2269400>"
      ]
     },
     "metadata": {},
     "output_type": "display_data"
    }
   ],
   "source": [
    "plot_scores(grid_cv_zeros)"
   ]
  },
  {
   "cell_type": "code",
   "execution_count": 15,
   "metadata": {},
   "outputs": [
    {
     "data": {
      "image/png": "[encoded data removed]",
      "text/plain": [
       "<matplotlib.figure.Figure at 0x2a0c23d8c88>"
      ]
     },
     "metadata": {},
     "output_type": "display_data"
    }
   ],
   "source": [
    "plot_scores(grid_cv_means)"
   ]
  },
  {
   "cell_type": "code",
   "execution_count": 16,
   "metadata": {},
   "outputs": [
    {
     "name": "stdout",
     "output_type": "stream",
     "text": [
      "Zeros ROC AUC: 0.8845110629077981 \n",
      "Means ROC AUC: 0.8846632621873882\n"
     ]
    }
   ],
   "source": [
    "print('Zeros ROC AUC: {} \\nMeans ROC AUC: {}'.format(roc_auc_score(y_test, grid_cv_zeros.predict_proba(X_test_zeros)[:, 1]),\n",
    "                                                    roc_auc_score(y_test, grid_cv_zeros.predict_proba(X_test_means)[:, 1])))"
   ]
  },
  {
   "cell_type": "markdown",
   "metadata": {},
   "source": [
    "## Масштабирование вещественных признаков."
   ]
  },
  {
   "cell_type": "markdown",
   "metadata": {},
   "source": [
    "Попробуем как-то улучшить качество классификации. Для этого посмотрим на сами данные:"
   ]
  },
  {
   "cell_type": "code",
   "execution_count": 17,
   "metadata": {},
   "outputs": [
    {
     "data": {
      "image/png": "[encoded data removed]",
      "text/plain": [
       "<matplotlib.figure.Figure at 0x2a0c2453be0>"
      ]
     },
     "metadata": {},
     "output_type": "display_data"
    }
   ],
   "source": [
    "from pandas.tools.plotting import scatter_matrix\n",
    "\n",
    "data_numeric = pd.DataFrame(X_train_real_zeros, columns=numeric_cols)\n",
    "list_cols = ['Number.of.Successful.Grant.1', 'SEO.Percentage.2', 'Year.of.Birth.1']\n",
    "scatter_matrix(data_numeric[list_cols], alpha=0.5, figsize=(10, 10))\n",
    "plt.show()"
   ]
  },
  {
   "cell_type": "markdown",
   "metadata": {},
   "source": [
    "Как видно из графиков, разные признаки очень сильно отличаются друг от друга по модулю значений (обратите внимание на диапазоны значений осей x и y). В случае обычной регрессии это никак не влияет на качество обучаемой модели, т.к. у меньших по модулю признаков будут большие веса, но при использовании регуляризации, которая штрафует модель за большие веса, регрессия, как правило, начинает работать хуже.\n",
    "\n",
    "В таких случаях всегда рекомендуется делать стандартизацию (масштабирование) признаков, для того чтобы они меньше отличались друг друга по модулю, но при этом не нарушались никакие другие свойства признакового пространства. При этом даже если итоговое качество модели на тесте уменьшается, это повышает её интерпретабельность, потому что новые веса имеют смысл \"значимости\" данного признака для итоговой классификации.\n",
    "\n",
    "Стандартизация осуществляется посредством вычета из каждого признака среднего значения и нормировки на выборочное стандартное отклонение:\n",
    "\n",
    "$$ x^{scaled}_{id} = \\dfrac{x_{id} - \\mu_d}{\\sigma_d}, \\quad \\mu_d = \\frac{1}{N} \\sum_{i=1}^l x_{id}, \\quad \\sigma_d = \\sqrt{\\frac{1}{N-1} \\sum_{i=1}^l (x_{id} - \\mu_d)^2} $$"
   ]
  },
  {
   "cell_type": "markdown",
   "metadata": {},
   "source": [
    "## Задание 1.5. Масштабирование вещественных признаков.\n",
    "\n",
    "1. По аналогии с вызовом one-hot encoder примените масштабирование вещественных признаков для обучающих и тестовых выборок X_train_real_zeros и X_test_real_zeros, используя класс \n",
    "\n",
    "        StandardScaler\n",
    "   \n",
    "   и методы \n",
    "\n",
    "        StandardScaler.fit_transform(...)\n",
    "        StandardScaler.transform(...)\n",
    "2. Сохраните ответ в переменные X_train_real_scaled и X_test_real_scaled соответственно"
   ]
  },
  {
   "cell_type": "code",
   "execution_count": 18,
   "metadata": {
    "collapsed": true
   },
   "outputs": [],
   "source": [
    "from sklearn.preprocessing import StandardScaler\n",
    "\n",
    "scaler = StandardScaler()\n",
    "\n",
    "scaler.fit_transform(X_train_real_zeros, y_train)\n",
    "\n",
    "X_train_real_scaled = pd.DataFrame(scaler.transform(X_train_real_zeros), columns=numeric_cols)\n",
    "X_test_real_scaled = pd.DataFrame(scaler.transform(X_test_real_zeros), columns=numeric_cols)"
   ]
  },
  {
   "cell_type": "markdown",
   "metadata": {},
   "source": [
    "## Сравнение признаковых пространств."
   ]
  },
  {
   "cell_type": "markdown",
   "metadata": {},
   "source": [
    "Построим такие же графики для преобразованных данных:"
   ]
  },
  {
   "cell_type": "code",
   "execution_count": 19,
   "metadata": {},
   "outputs": [
    {
     "data": {
      "image/png": "[encoded data removed]",
      "text/plain": [
       "<matplotlib.figure.Figure at 0x2a0c22a1160>"
      ]
     },
     "metadata": {},
     "output_type": "display_data"
    }
   ],
   "source": [
    "data_numeric_scaled = pd.DataFrame(X_train_real_scaled, columns=numeric_cols)\n",
    "list_cols = ['Number.of.Successful.Grant.1', 'SEO.Percentage.2', 'Year.of.Birth.1']\n",
    "scatter_matrix(data_numeric_scaled[list_cols], alpha=0.5, figsize=(10, 10))\n",
    "plt.show()"
   ]
  },
  {
   "cell_type": "markdown",
   "metadata": {},
   "source": [
    "Как видно из графиков, мы не поменяли свойства признакового пространства: гистограммы распределений значений признаков, как и их scatter-plots, выглядят так же, как и до нормировки, но при этом все значения теперь находятся примерно в одном диапазоне, тем самым повышая интерпретабельность результатов, а также лучше сочетаясь с идеологией регуляризации."
   ]
  },
  {
   "cell_type": "markdown",
   "metadata": {},
   "source": [
    "## Задание 2. Сравнение качества классификации до и после масштабирования вещественных признаков.\n",
    "1. Обучите ещё раз регрессию и гиперпараметры на новых признаках, объединив их с закодированными категориальными.\n",
    "2. Проверьте, был ли найден оптимум accuracy по гиперпараметрам во время кроссвалидации.\n",
    "3. Получите значение ROC AUC на тестовой выборке, сравните с лучшим результатом, полученными ранее.\n",
    "4. Запишите полученный ответ в файл при помощи функции write_answer_2."
   ]
  },
  {
   "cell_type": "code",
   "execution_count": 20,
   "metadata": {},
   "outputs": [
    {
     "name": "stdout",
     "output_type": "stream",
     "text": [
      "Wall time: 13.6 s\n"
     ]
    }
   ],
   "source": [
    "%%time\n",
    "\n",
    "X_train = np.hstack((X_train_real_scaled, X_train_cat_oh))\n",
    "X_test = np.hstack((X_test_real_scaled, X_test_cat_oh))\n",
    "\n",
    "grid_cv = GridSearchCV(classifier, param_grid, cv = cv)\n",
    "\n",
    "grid_cv.fit(X_train, y_train)"
   ]
  },
  {
   "cell_type": "code",
   "execution_count": 21,
   "metadata": {},
   "outputs": [
    {
     "name": "stdout",
     "output_type": "stream",
     "text": [
      "Best params: {'C': 0.05}\n"
     ]
    }
   ],
   "source": [
    "print('Best params: {}'.format(grid_cv.best_params_))"
   ]
  },
  {
   "cell_type": "code",
   "execution_count": 22,
   "metadata": {},
   "outputs": [
    {
     "data": {
      "image/png": "[encoded data removed]",
      "text/plain": [
       "<matplotlib.figure.Figure at 0x2a0c22ac780>"
      ]
     },
     "metadata": {},
     "output_type": "display_data"
    }
   ],
   "source": [
    "plot_scores(grid_cv)"
   ]
  },
  {
   "cell_type": "code",
   "execution_count": 23,
   "metadata": {},
   "outputs": [
    {
     "name": "stdout",
     "output_type": "stream",
     "text": [
      "Zeros ROC AUC: 0.8845110629077981 \n",
      "Means ROC AUC: 0.8846632621873882\n",
      "Scaled ROC AUC: 0.885044379082622\n"
     ]
    }
   ],
   "source": [
    "print('Zeros ROC AUC: {} \\nMeans ROC AUC: {}'.format(roc_auc_score(y_test, grid_cv_zeros.predict_proba(X_test_zeros)[:, 1]),\n",
    "                                                    roc_auc_score(y_test, grid_cv_zeros.predict_proba(X_test_means)[:, 1])))\n",
    "\n",
    "print('Scaled ROC AUC: {}'.format(roc_auc_score(y_test, grid_cv.predict_proba(X_test)[:, 1])))"
   ]
  },
  {
   "cell_type": "markdown",
   "metadata": {},
   "source": [
    "## Балансировка классов."
   ]
  },
  {
   "cell_type": "markdown",
   "metadata": {},
   "source": [
    "Алгоритмы классификации могут быть очень чувствительны к несбалансированным классам. Рассмотрим пример с выборками, сэмплированными из двух гауссиан. Их мат. ожидания и матрицы ковариации заданы так, что истинная разделяющая поверхность должна проходить параллельно оси x. Поместим в обучающую выборку 20 объектов, сэмплированных из 1-й гауссианы, и 10 объектов из 2-й. После этого обучим на них линейную регрессию, и построим на графиках объекты и области классификации."
   ]
  },
  {
   "cell_type": "code",
   "execution_count": 24,
   "metadata": {},
   "outputs": [
    {
     "data": {
      "image/png": "[encoded data removed]",
      "text/plain": [
       "<matplotlib.figure.Figure at 0x2a0c29ed1d0>"
      ]
     },
     "metadata": {},
     "output_type": "display_data"
    },
    {
     "name": "stdout",
     "output_type": "stream",
     "text": [
      "AUC: 0.906667\n"
     ]
    },
    {
     "data": {
      "image/png": "[encoded data removed]",
      "text/plain": [
       "<matplotlib.figure.Figure at 0x2a0c22121d0>"
      ]
     },
     "metadata": {},
     "output_type": "display_data"
    },
    {
     "name": "stdout",
     "output_type": "stream",
     "text": [
      "AUC: 0.895000\n"
     ]
    }
   ],
   "source": [
    "np.random.seed(0)\n",
    "\"\"\"Сэмплируем данные из первой гауссианы\"\"\"\n",
    "data_0 = np.random.multivariate_normal([0,0], [[0.5,0],[0,0.5]], size=40)\n",
    "\"\"\"И из второй\"\"\"\n",
    "data_1 = np.random.multivariate_normal([0,1], [[0.5,0],[0,0.5]], size=40)\n",
    "\"\"\"На обучение берём 20 объектов из первого класса и 10 из второго\"\"\"\n",
    "example_data_train = np.vstack([data_0[:20,:], data_1[:10,:]])\n",
    "example_labels_train = np.concatenate([np.zeros((20)), np.ones((10))])\n",
    "\"\"\"На тест - 20 из первого и 30 из второго\"\"\"\n",
    "example_data_test = np.vstack([data_0[20:,:], data_1[10:,:]])\n",
    "example_labels_test = np.concatenate([np.zeros((20)), np.ones((30))])\n",
    "\"\"\"Задаём координатную сетку, на которой будем вычислять область классификации\"\"\"\n",
    "xx, yy = np.meshgrid(np.arange(-3, 3, 0.02), np.arange(-3, 3, 0.02))\n",
    "\"\"\"Обучаем регрессию без балансировки по классам\"\"\"\n",
    "optimizer = GridSearchCV(LogisticRegression(), param_grid, cv=cv, n_jobs=-1)\n",
    "optimizer.fit(example_data_train, example_labels_train)\n",
    "\"\"\"Строим предсказания регрессии для сетки\"\"\"\n",
    "Z = optimizer.predict(np.c_[xx.ravel(), yy.ravel()]).reshape(xx.shape)\n",
    "plt.pcolormesh(xx, yy, Z, cmap=plt.cm.Pastel2)\n",
    "plt.scatter(data_0[:,0], data_0[:,1], color='red')\n",
    "plt.scatter(data_1[:,0], data_1[:,1], color='blue')\n",
    "\"\"\"Считаем AUC\"\"\"\n",
    "auc_wo_class_weights = roc_auc_score(example_labels_test, optimizer.predict_proba(example_data_test)[:,1])\n",
    "plt.title('Without class weights')\n",
    "plt.show()\n",
    "print('AUC: %f'%auc_wo_class_weights)\n",
    "\"\"\"Для второй регрессии в LogisticRegression передаём параметр class_weight='balanced'\"\"\"\n",
    "optimizer = GridSearchCV(LogisticRegression(class_weight='balanced'), param_grid, cv=cv, n_jobs=-1)\n",
    "optimizer.fit(example_data_train, example_labels_train)\n",
    "Z = optimizer.predict(np.c_[xx.ravel(), yy.ravel()]).reshape(xx.shape)\n",
    "plt.pcolormesh(xx, yy, Z, cmap=plt.cm.Pastel2)\n",
    "plt.scatter(data_0[:,0], data_0[:,1], color='red')\n",
    "plt.scatter(data_1[:,0], data_1[:,1], color='blue')\n",
    "auc_w_class_weights = roc_auc_score(example_labels_test, optimizer.predict_proba(example_data_test)[:,1])\n",
    "plt.title('With class weights')\n",
    "plt.show()\n",
    "print('AUC: %f'%auc_w_class_weights)"
   ]
  },
  {
   "cell_type": "markdown",
   "metadata": {},
   "source": [
    "Как видно, во втором случае классификатор находит разделяющую поверхность, которая ближе к истинной, т.е. меньше переобучается. Поэтому на сбалансированность классов в обучающей выборке всегда следует обращать внимание.\n",
    "\n",
    "Посмотрим, сбалансированны ли классы в нашей обучающей выборке:"
   ]
  },
  {
   "cell_type": "code",
   "execution_count": 25,
   "metadata": {},
   "outputs": [
    {
     "name": "stdout",
     "output_type": "stream",
     "text": [
      "2316\n",
      "1884\n"
     ]
    }
   ],
   "source": [
    "print(np.sum(y_train==0))\n",
    "print(np.sum(y_train==1))"
   ]
  },
  {
   "cell_type": "markdown",
   "metadata": {},
   "source": [
    "Видно, что нет.\n",
    "\n",
    "Исправить ситуацию можно разными способами, мы рассмотрим два:\n",
    "- давать объектам миноритарного класса больший вес при обучении классификатора (рассмотрен в примере выше)\n",
    "- досэмплировать объекты миноритарного класса, пока число объектов в обоих классах не сравняется"
   ]
  },
  {
   "cell_type": "markdown",
   "metadata": {},
   "source": [
    "## Задание 3. Балансировка классов.\n",
    "1. Обучите логистическую регрессию и гиперпараметры с балансировкой классов, используя веса (параметр class_weight='balanced' регрессии) на отмасштабированных выборках, полученных в предыдущем задании. Убедитесь, что вы нашли максимум accuracy по гиперпараметрам.\n",
    "2. Получите метрику ROC AUC на тестовой выборке.\n",
    "3. Сбалансируйте выборку, досэмплировав в неё объекты из меньшего класса. Для получения индексов объектов, которые требуется добавить в обучающую выборку, используйте следующую комбинацию вызовов функций:\n",
    "        np.random.seed(0)\n",
    "        indices_to_add = np.random.randint(...)\n",
    "        X_train_to_add = X_train[y_train.as_matrix() == 1,:][indices_to_add,:]\n",
    "   После этого добавьте эти объекты в начало или конец обучающей выборки. Дополните соответствующим      образом вектор ответов.\n",
    "4. Получите метрику ROC AUC на тестовой выборке, сравните с предыдущим результатом.\n",
    "5. Внесите ответы в выходной файл при помощи функции write_asnwer_3, передав в неё сначала ROC AUC для балансировки весами, а потом балансировки выборки вручную."
   ]
  },
  {
   "cell_type": "code",
   "execution_count": 26,
   "metadata": {},
   "outputs": [
    {
     "name": "stdout",
     "output_type": "stream",
     "text": [
      "Balanced ROC AUC: 0.8871850681370189\n"
     ]
    }
   ],
   "source": [
    "def write_answer_3(auc_1, auc_2):\n",
    "    auc = (auc_1 + auc_2) / 2\n",
    "    with open(\"preprocessing_lr_answer3.txt\", \"w\") as fout:\n",
    "        fout.write(str(auc))\n",
    "        \n",
    "balanced_classifier = LogisticRegression(random_state = 0, class_weight='balanced')\n",
    "\n",
    "grid_cv_balanced = GridSearchCV(balanced_classifier, param_grid, cv = cv)\n",
    "\n",
    "grid_cv_balanced.fit(X_train, y_train)\n",
    "\n",
    "print('Balanced ROC AUC: {}'.format(roc_auc_score(y_test, grid_cv_balanced.predict_proba(X_test)[:, 1])))"
   ]
  },
  {
   "cell_type": "code",
   "execution_count": 27,
   "metadata": {},
   "outputs": [
    {
     "name": "stdout",
     "output_type": "stream",
     "text": [
      "(4200, 5606) (4632, 5606)\n",
      "2316\n",
      "2316\n"
     ]
    }
   ],
   "source": [
    "np.random.seed(0)\n",
    "size_difference = np.sum(y_train==0) - np.sum(y_train==1)\n",
    "\n",
    "indices_to_add = np.random.randint(0, np.sum(y_train==1), size = size_difference)\n",
    "X_train_to_add = X_train[y_train.as_matrix() == 1,:][indices_to_add,:]\n",
    "y_train_to_add = y_train[y_train == 1][indices_to_add]\n",
    "y_train_to_add = y_train_to_add.fillna(1)\n",
    "\n",
    "X_train_oversampled = np.vstack((X_train, X_train_to_add))\n",
    "y_train_oversampled = np.hstack((y_train, y_train_to_add))\n",
    "\n",
    "print(X_train.shape, X_train_oversampled.shape)\n",
    "\n",
    "print(np.sum(y_train_oversampled==0))\n",
    "print(np.sum(y_train_oversampled==1))"
   ]
  },
  {
   "cell_type": "code",
   "execution_count": 53,
   "metadata": {},
   "outputs": [
    {
     "name": "stdout",
     "output_type": "stream",
     "text": [
      "Balanced ROC AUC: 0.9429934221983391\n"
     ]
    }
   ],
   "source": [
    "grid_cv.fit(X_train_oversampled, y_train_oversampled)\n",
    "print('Balanced ROC AUC: {}'.format(roc_auc_score(y_test, grid_cv.predict_proba(X_test)[:, 1])))"
   ]
  },
  {
   "cell_type": "markdown",
   "metadata": {},
   "source": [
    "## Стратификация выборок."
   ]
  },
  {
   "cell_type": "markdown",
   "metadata": {},
   "source": [
    "Рассмотрим ещё раз пример с выборками из нормальных распределений. Посмотрим ещё раз на качество классификаторов, получаемое на тестовых выборках:"
   ]
  },
  {
   "cell_type": "code",
   "execution_count": 29,
   "metadata": {},
   "outputs": [
    {
     "name": "stdout",
     "output_type": "stream",
     "text": [
      "AUC ROC for classifier without weighted classes 0.906666666667\n",
      "AUC ROC for classifier with weighted classes:  0.895\n"
     ]
    }
   ],
   "source": [
    "print('AUC ROC for classifier without weighted classes', auc_wo_class_weights)\n",
    "print('AUC ROC for classifier with weighted classes: ', auc_w_class_weights)"
   ]
  },
  {
   "cell_type": "markdown",
   "metadata": {},
   "source": [
    "Насколько эти цифры реально отражают качество работы алгоритма, если учесть, что тестовая выборка так же несбалансирована, как обучающая? При этом мы уже знаем, что алгоритм логистический регрессии чувствителен к балансировке классов в обучающей выборке, т.е. в данном случае на тесте он будет давать заведомо заниженные результаты. Метрика классификатора на тесте имела бы гораздо больший смысл, если бы объекты были разделы в выборках поровну: по 20 из каждого класса на обучени и на тесте. Переформируем выборки и подсчитаем новые ошибки:"
   ]
  },
  {
   "cell_type": "code",
   "execution_count": 30,
   "metadata": {},
   "outputs": [
    {
     "data": {
      "image/png": "[encoded data removed]",
      "text/plain": [
       "<matplotlib.figure.Figure at 0x2a0c261fac8>"
      ]
     },
     "metadata": {},
     "output_type": "display_data"
    },
    {
     "name": "stdout",
     "output_type": "stream",
     "text": [
      "AUC ROC for stratified samples:  0.91\n"
     ]
    }
   ],
   "source": [
    "\"\"\"Разделим данные по классам поровну между обучающей и тестовой выборками\"\"\"\n",
    "example_data_train = np.vstack([data_0[:20,:], data_1[:20,:]])\n",
    "example_labels_train = np.concatenate([np.zeros((20)), np.ones((20))])\n",
    "example_data_test = np.vstack([data_0[20:,:], data_1[20:,:]])\n",
    "example_labels_test = np.concatenate([np.zeros((20)), np.ones((20))])\n",
    "\"\"\"Обучим классификатор\"\"\"\n",
    "optimizer = GridSearchCV(LogisticRegression(class_weight='balanced'), param_grid, cv=cv, n_jobs=-1)\n",
    "optimizer.fit(example_data_train, example_labels_train)\n",
    "Z = optimizer.predict(np.c_[xx.ravel(), yy.ravel()]).reshape(xx.shape)\n",
    "plt.pcolormesh(xx, yy, Z, cmap=plt.cm.Pastel2)\n",
    "plt.scatter(data_0[:,0], data_0[:,1], color='red')\n",
    "plt.scatter(data_1[:,0], data_1[:,1], color='blue')\n",
    "auc_stratified = roc_auc_score(example_labels_test, optimizer.predict_proba(example_data_test)[:,1])\n",
    "plt.title('With class weights')\n",
    "plt.show()\n",
    "print('AUC ROC for stratified samples: ', auc_stratified)"
   ]
  },
  {
   "cell_type": "markdown",
   "metadata": {},
   "source": [
    "Как видно, после данной процедуры ответ классификатора изменился незначительно, а вот качество увеличилось. При этом, в зависимости от того, как вы разбили изначально данные на обучение и тест, после сбалансированного разделения выборок итоговая метрика на тесте может как увеличиться, так и уменьшиться, но доверять ей можно значительно больше, т.к. она построена с учётом специфики работы классификатора. Данный подход является частным случаем т.н. метода стратификации."
   ]
  },
  {
   "cell_type": "markdown",
   "metadata": {},
   "source": [
    "## Задание 4. Стратификация выборки.\n",
    "\n",
    "1. По аналогии с тем, как это было сделано в начале задания, разбейте выборки X_real_zeros и X_cat_oh на обучение и тест, передавая в функцию \n",
    "        train_test_split(...)\n",
    "   дополнительно параметр \n",
    "       stratify=y\n",
    "   Также обязательно передайте в функцию переменную random_state=0.\n",
    "2. Выполните масштабирование новых вещественных выборок, обучите классификатор и его гиперпараметры при помощи метода кросс-валидации, делая поправку на несбалансированные классы при помощи весов. Убедитесь в том, что нашли оптимум accuracy по гиперпараметрам.\n",
    "3. Оцените качество классификатора метрике AUC ROC на тестовой выборке.\n",
    "4. Полученный ответ передайте функции write_answer_4"
   ]
  },
  {
   "cell_type": "code",
   "execution_count": 31,
   "metadata": {
    "collapsed": true
   },
   "outputs": [],
   "source": [
    "def write_answer_4(auc):\n",
    "    with open(\"preprocessing_lr_answer4.txt\", \"w\") as fout:\n",
    "        fout.write(str(auc))"
   ]
  },
  {
   "cell_type": "code",
   "execution_count": 32,
   "metadata": {
    "collapsed": true
   },
   "outputs": [],
   "source": [
    "(X_train_real_zeros, \n",
    " X_test_real_zeros, \n",
    " y_train, y_test) = train_test_split(X_real_zeros, y, \n",
    "                                     test_size=0.3, \n",
    "                                     random_state=0,\n",
    "                                     stratify=y)\n",
    "(X_train_cat_oh,\n",
    " X_test_cat_oh) = train_test_split(X_cat_oh, \n",
    "                                   test_size=0.3, \n",
    "                                   random_state=0,\n",
    "                                   stratify=y)"
   ]
  },
  {
   "cell_type": "code",
   "execution_count": 33,
   "metadata": {
    "collapsed": true
   },
   "outputs": [],
   "source": [
    "scaler.fit_transform(X_train_real_zeros, y_train)\n",
    "\n",
    "X_train_real_scaled = pd.DataFrame(scaler.transform(X_train_real_zeros), columns=numeric_cols)\n",
    "X_test_real_scaled = pd.DataFrame(scaler.transform(X_test_real_zeros), columns=numeric_cols)\n",
    "\n",
    "X_train = np.hstack((X_train_real_scaled, X_train_cat_oh))\n",
    "X_test = np.hstack((X_test_real_scaled, X_test_cat_oh))"
   ]
  },
  {
   "cell_type": "code",
   "execution_count": 34,
   "metadata": {},
   "outputs": [
    {
     "name": "stdout",
     "output_type": "stream",
     "text": [
      "Wall time: 12.8 s\n"
     ]
    }
   ],
   "source": [
    "%%time\n",
    "\n",
    "grid_cv_strat = GridSearchCV(balanced_classifier, param_grid, cv = cv)\n",
    "\n",
    "grid_cv_strat.fit(X_train, y_train)"
   ]
  },
  {
   "cell_type": "code",
   "execution_count": 35,
   "metadata": {},
   "outputs": [
    {
     "name": "stdout",
     "output_type": "stream",
     "text": [
      "Best Params:  {'C': 0.1}\n"
     ]
    },
    {
     "data": {
      "image/png": "[encoded data removed]",
      "text/plain": [
       "<matplotlib.figure.Figure at 0x2a0c2337978>"
      ]
     },
     "metadata": {},
     "output_type": "display_data"
    }
   ],
   "source": [
    "print('Best Params: ', grid_cv_strat.best_params_)\n",
    "\n",
    "plot_scores(grid_cv_strat)"
   ]
  },
  {
   "cell_type": "code",
   "execution_count": 36,
   "metadata": {},
   "outputs": [
    {
     "name": "stdout",
     "output_type": "stream",
     "text": [
      "Balanced ROC AUC: 0.8793487130496221\n"
     ]
    }
   ],
   "source": [
    "print('Balanced ROC AUC: {}'.format(roc_auc_score(y_test, grid_cv_strat.predict_proba(X_test)[:, 1])))"
   ]
  },
  {
   "cell_type": "markdown",
   "metadata": {},
   "source": [
    "Теперь вы разобрались с основными этапами предобработки данных для линейных классификаторов.\n",
    "Напомним основные этапы:\n",
    "- обработка пропущенных значений\n",
    "- обработка категориальных признаков\n",
    "- стратификация\n",
    "- балансировка классов\n",
    "- масштабирование\n",
    "\n",
    "Данные действия с данными рекомендуется проводить всякий раз, когда вы планируете использовать линейные методы. Рекомендация по выполнению многих из этих пунктов справедлива и для других методов машинного обучения."
   ]
  },
  {
   "cell_type": "markdown",
   "metadata": {},
   "source": [
    "## Трансформация признаков.\n",
    "\n",
    "Теперь рассмотрим способы преобразования признаков. Существует достаточно много различных способов трансформации признаков, которые позволяют при помощи линейных методов получать более сложные разделяющие поверхности. Самым базовым является полиномиальное преобразование признаков. Его идея заключается в том, что помимо самих признаков вы дополнительно включаете набор все полиномы степени $p$, которые можно из них построить. Для случая $p=2$ преобразование выглядит следующим образом:\n",
    "\n",
    "$$ \\phi(x_i) = [x_{i,1}^2, ..., x_{i,D}^2, x_{i,1}x_{i,2}, ..., x_{i,D} x_{i,D-1}, x_{i,1}, ..., x_{i,D}, 1] $$\n",
    "\n",
    "Рассмотрим принцип работы данных признаков на данных, сэмплированных их гауссиан:"
   ]
  },
  {
   "cell_type": "code",
   "execution_count": 37,
   "metadata": {},
   "outputs": [
    {
     "data": {
      "image/png": "[encoded data removed]",
      "text/plain": [
       "<matplotlib.figure.Figure at 0x2a0badcbda0>"
      ]
     },
     "metadata": {},
     "output_type": "display_data"
    }
   ],
   "source": [
    "from sklearn.preprocessing import PolynomialFeatures\n",
    "\n",
    "\"\"\"Инициализируем класс, который выполняет преобразование\"\"\"\n",
    "transform = PolynomialFeatures(2)\n",
    "\"\"\"Обучаем преобразование на обучающей выборке, применяем его к тестовой\"\"\"\n",
    "example_data_train_poly = transform.fit_transform(example_data_train)\n",
    "example_data_test_poly = transform.transform(example_data_test)\n",
    "\"\"\"Обращаем внимание на параметр fit_intercept=False\"\"\"\n",
    "optimizer = GridSearchCV(LogisticRegression(class_weight='balanced', fit_intercept=False), param_grid, cv=cv, n_jobs=-1)\n",
    "optimizer.fit(example_data_train_poly, example_labels_train)\n",
    "Z = optimizer.predict(transform.transform(np.c_[xx.ravel(), yy.ravel()])).reshape(xx.shape)\n",
    "plt.pcolormesh(xx, yy, Z, cmap=plt.cm.Pastel2)\n",
    "plt.scatter(data_0[:,0], data_0[:,1], color='red')\n",
    "plt.scatter(data_1[:,0], data_1[:,1], color='blue')\n",
    "plt.title('With class weights')\n",
    "plt.show()"
   ]
  },
  {
   "cell_type": "markdown",
   "metadata": {},
   "source": [
    "Видно, что данный метод преобразования данных уже позволяет строить нелинейные разделяющие поверхности, которые могут более тонко подстраиваться под данные и находить более сложные зависимости. Число признаков в новой модели:"
   ]
  },
  {
   "cell_type": "code",
   "execution_count": 38,
   "metadata": {},
   "outputs": [
    {
     "name": "stdout",
     "output_type": "stream",
     "text": [
      "(40, 6)\n"
     ]
    }
   ],
   "source": [
    "print(example_data_train_poly.shape)"
   ]
  },
  {
   "cell_type": "markdown",
   "metadata": {},
   "source": [
    "Но при этом одновременно данный метод способствует более сильной способности модели к переобучению из-за быстрого роста числа признаком с увеличением степени $p$. Рассмотрим пример с $p=11$:"
   ]
  },
  {
   "cell_type": "code",
   "execution_count": 39,
   "metadata": {},
   "outputs": [
    {
     "data": {
      "image/png": "[encoded data removed]",
      "text/plain": [
       "<matplotlib.figure.Figure at 0x2a0b9db4320>"
      ]
     },
     "metadata": {},
     "output_type": "display_data"
    }
   ],
   "source": [
    "transform = PolynomialFeatures(11)\n",
    "example_data_train_poly = transform.fit_transform(example_data_train)\n",
    "example_data_test_poly = transform.transform(example_data_test)\n",
    "optimizer = GridSearchCV(LogisticRegression(class_weight='balanced', fit_intercept=False), param_grid, cv=cv, n_jobs=-1)\n",
    "optimizer.fit(example_data_train_poly, example_labels_train)\n",
    "Z = optimizer.predict(transform.transform(np.c_[xx.ravel(), yy.ravel()])).reshape(xx.shape)\n",
    "plt.pcolormesh(xx, yy, Z, cmap=plt.cm.Pastel2)\n",
    "plt.scatter(data_0[:,0], data_0[:,1], color='red')\n",
    "plt.scatter(data_1[:,0], data_1[:,1], color='blue')\n",
    "plt.title('Corrected class weights')\n",
    "plt.show()"
   ]
  },
  {
   "cell_type": "markdown",
   "metadata": {},
   "source": [
    "Количество признаков в данной модели:"
   ]
  },
  {
   "cell_type": "code",
   "execution_count": 40,
   "metadata": {},
   "outputs": [
    {
     "name": "stdout",
     "output_type": "stream",
     "text": [
      "(40, 78)\n"
     ]
    }
   ],
   "source": [
    "print(example_data_train_poly.shape)"
   ]
  },
  {
   "cell_type": "markdown",
   "metadata": {},
   "source": [
    "## Задание 5. Трансформация вещественных признаков.\n",
    "\n",
    "1. Реализуйте по аналогии с примером преобразование вещественных признаков модели при помощи полиномиальных признаков степени 2\n",
    "2. Постройте логистическую регрессию на новых данных, одновременно подобрав оптимальные гиперпараметры. Обращаем внимание, что в преобразованных признаках уже присутствует столбец, все значения которого равны 1, поэтому обучать дополнительно значение $b$ не нужно, его функцию выполняет один из весов $w$. В связи с этим во избежание линейной зависимости в датасете, в вызов класса логистической регрессии требуется передавать параметр fit_intercept=False. Для обучения используйте стратифицированные выборки с балансировкой классов при помощи весов, преобразованные признаки требуется заново отмасштабировать.\n",
    "3. Получите AUC ROC на тесте и сравните данный результат с использованием обычных признаков.\n",
    "4. Передайте полученный ответ в функцию write_answer_5."
   ]
  },
  {
   "cell_type": "code",
   "execution_count": 41,
   "metadata": {
    "collapsed": true
   },
   "outputs": [],
   "source": [
    "(X_train_real_zeros, \n",
    " X_test_real_zeros, \n",
    " y_train, y_test) = train_test_split(X_real_zeros, y, \n",
    "                                     test_size=0.3, \n",
    "                                     random_state=0,\n",
    "                                     stratify=y)\n",
    "(X_train_cat_oh,\n",
    " X_test_cat_oh) = train_test_split(X_cat_oh, \n",
    "                                   test_size=0.3, \n",
    "                                   random_state=0,\n",
    "                                   stratify=y)"
   ]
  },
  {
   "cell_type": "code",
   "execution_count": 42,
   "metadata": {},
   "outputs": [
    {
     "name": "stdout",
     "output_type": "stream",
     "text": [
      "(4200, 105) (1800, 105) (4200, 13) (1800, 13)\n"
     ]
    }
   ],
   "source": [
    "transform = PolynomialFeatures(2)\n",
    "\n",
    "transform.fit_transform(X_train_real_zeros, y_train)\n",
    "\n",
    "X_train_real_poly = transform.transform(X_train_real_zeros)\n",
    "X_test_real_poly = transform.transform(X_test_real_zeros) \n",
    "\n",
    "print(X_train_real_poly.shape, X_test_real_poly.shape, X_train_real_zeros.shape, X_test_real_zeros.shape)"
   ]
  },
  {
   "cell_type": "code",
   "execution_count": 43,
   "metadata": {},
   "outputs": [
    {
     "name": "stdout",
     "output_type": "stream",
     "text": [
      "(4200, 105) (1800, 105) (4200, 13) (1800, 13)\n"
     ]
    }
   ],
   "source": [
    "scaler.fit_transform(X_train_real_poly, y_train)\n",
    "\n",
    "X_train_real_scaled = pd.DataFrame(scaler.transform(X_train_real_poly))\n",
    "X_test_real_scaled = pd.DataFrame(scaler.transform(X_test_real_poly))\n",
    "\n",
    "print(X_train_real_scaled.shape, X_test_real_scaled.shape, X_train_real_zeros.shape, X_test_real_zeros.shape)"
   ]
  },
  {
   "cell_type": "code",
   "execution_count": 44,
   "metadata": {},
   "outputs": [
    {
     "name": "stdout",
     "output_type": "stream",
     "text": [
      "(4200, 5698) (1800, 5698)\n"
     ]
    }
   ],
   "source": [
    "X_train = np.hstack((X_train_real_scaled, X_train_cat_oh))\n",
    "X_test = np.hstack((X_test_real_scaled, X_test_cat_oh))\n",
    "\n",
    "print(X_train.shape, X_test.shape)"
   ]
  },
  {
   "cell_type": "code",
   "execution_count": 45,
   "metadata": {},
   "outputs": [
    {
     "name": "stdout",
     "output_type": "stream",
     "text": [
      "Wall time: 9.58 s\n"
     ]
    }
   ],
   "source": [
    "%%time\n",
    "\n",
    "trans_balanced_classifier = LogisticRegression(random_state = 0, class_weight='balanced', fit_intercept=False)\n",
    "\n",
    "grid_cv_trans = GridSearchCV(trans_balanced_classifier, param_grid, cv = cv)\n",
    "\n",
    "grid_cv_trans.fit(X_train, y_train)"
   ]
  },
  {
   "cell_type": "code",
   "execution_count": 46,
   "metadata": {},
   "outputs": [
    {
     "name": "stdout",
     "output_type": "stream",
     "text": [
      "Best Params:  {'C': 0.1}\n"
     ]
    },
    {
     "data": {
      "image/png": "[encoded data removed]",
      "text/plain": [
       "<matplotlib.figure.Figure at 0x2a0c52d8ac8>"
      ]
     },
     "metadata": {},
     "output_type": "display_data"
    }
   ],
   "source": [
    "print('Best Params: ', grid_cv_trans.best_params_)\n",
    "\n",
    "plot_scores(grid_cv_trans)"
   ]
  },
  {
   "cell_type": "code",
   "execution_count": 47,
   "metadata": {},
   "outputs": [
    {
     "name": "stdout",
     "output_type": "stream",
     "text": [
      "Poly Balanced ROC AUC: 0.8869950343070668\n"
     ]
    }
   ],
   "source": [
    "print('Poly Balanced ROC AUC: {}'.format(roc_auc_score(y_test, grid_cv_trans.predict_proba(X_test)[:, 1])))"
   ]
  },
  {
   "cell_type": "markdown",
   "metadata": {},
   "source": [
    "## Регрессия Lasso.\n",
    "К логистической регрессии также можно применить L1-регуляризацию (Lasso), вместо регуляризации L2, которая будет приводить к отбору признаков. Вам предлагается применить L1-регуляцию к исходным признакам и проинтерпретировать полученные результаты (применение отбора признаков к полиномиальным так же можно успешно применять, но в нём уже будет отсутствовать компонента интерпретации, т.к. смысловое значение оригинальных признаков известно, а полиномиальных - уже может быть достаточно нетривиально). Для вызова логистической регрессии с L1-регуляризацией достаточно передать параметр penalty='l1' в инициализацию класса."
   ]
  },
  {
   "cell_type": "markdown",
   "metadata": {},
   "source": [
    "## Задание 6. Отбор признаков при помощи регрессии Lasso.\n",
    "1. Обучите регрессию Lasso на стратифицированных отмасштабированных выборках, используя балансировку классов при помощи весов.\n",
    "2. Получите ROC AUC регрессии, сравните его с предыдущими результатами.\n",
    "3. Найдите номера вещественных признаков, которые имеют нулевые веса в итоговой модели.\n",
    "4. Передайте их список функции write_answer_6."
   ]
  },
  {
   "cell_type": "code",
   "execution_count": 48,
   "metadata": {
    "collapsed": true
   },
   "outputs": [],
   "source": [
    "scaler.fit_transform(X_train_real_zeros, y_train)\n",
    "\n",
    "X_train_real_scaled = pd.DataFrame(scaler.transform(X_train_real_zeros), columns=numeric_cols)\n",
    "X_test_real_scaled = pd.DataFrame(scaler.transform(X_test_real_zeros), columns=numeric_cols)\n",
    "\n",
    "X_train = np.hstack((X_train_real_scaled, X_train_cat_oh))\n",
    "X_test = np.hstack((X_test_real_scaled, X_test_cat_oh))"
   ]
  },
  {
   "cell_type": "code",
   "execution_count": 49,
   "metadata": {},
   "outputs": [
    {
     "name": "stdout",
     "output_type": "stream",
     "text": [
      "Wall time: 15.4 s\n"
     ]
    }
   ],
   "source": [
    "%%time\n",
    "\n",
    "lasso_classifier = LogisticRegression(penalty  = 'l1', random_state = 0, class_weight='balanced', fit_intercept=False)\n",
    "\n",
    "grid_cv_lasso = GridSearchCV(trans_balanced_classifier, param_grid, cv = cv)\n",
    "\n",
    "grid_cv_lasso.fit(X_train, y_train)"
   ]
  },
  {
   "cell_type": "code",
   "execution_count": 50,
   "metadata": {},
   "outputs": [
    {
     "name": "stdout",
     "output_type": "stream",
     "text": [
      "Best Params:  {'C': 0.1}\n"
     ]
    },
    {
     "data": {
      "image/png": "[encoded data removed]",
      "text/plain": [
       "<matplotlib.figure.Figure at 0x2a0c235ca58>"
      ]
     },
     "metadata": {},
     "output_type": "display_data"
    }
   ],
   "source": [
    "print('Best Params: ', grid_cv_lasso.best_params_)\n",
    "\n",
    "plot_scores(grid_cv_lasso)"
   ]
  },
  {
   "cell_type": "code",
   "execution_count": 51,
   "metadata": {},
   "outputs": [
    {
     "name": "stdout",
     "output_type": "stream",
     "text": [
      "Lasso ROC AUC: 0.8793275665616805\n"
     ]
    }
   ],
   "source": [
    "print('Lasso ROC AUC: {}'.format(roc_auc_score(y_test, grid_cv_lasso.predict_proba(X_test)[:, 1])))"
   ]
  },
  {
   "cell_type": "code",
   "execution_count": 52,
   "metadata": {},
   "outputs": [
    {
     "data": {
      "text/plain": [
       "array(['Person.ID.1_1004967.0', 'Person.ID.1_10052.0',\n",
       "       'Person.ID.1_101582.0', 'Person.ID.1_102337.0',\n",
       "       'Person.ID.1_102602.0', 'Person.ID.1_103787.0',\n",
       "       'Person.ID.1_10402.0', 'Person.ID.1_106802.0',\n",
       "       'Person.ID.1_107602.0', 'Person.ID.1_109157.0',\n",
       "       'Person.ID.1_10997.0', 'Person.ID.1_111407.0', 'Person.ID.1_1117.0',\n",
       "       'Person.ID.1_11247.0', 'Person.ID.1_113052.0',\n",
       "       'Person.ID.1_114202.0', 'Person.ID.1_11602.0',\n",
       "       'Person.ID.1_117422.0', 'Person.ID.1_11812.0',\n",
       "       'Person.ID.1_118727.0', 'Person.ID.1_119282.0',\n",
       "       'Person.ID.1_119312.0', 'Person.ID.1_119322.0',\n",
       "       'Person.ID.1_119837.0', 'Person.ID.1_1217.0',\n",
       "       'Person.ID.1_121822.0', 'Person.ID.1_122222.0',\n",
       "       'Person.ID.1_1232.0', 'Person.ID.1_124932.0', 'Person.ID.1_12862.0',\n",
       "       'Person.ID.1_129127.0', 'Person.ID.1_129757.0',\n",
       "       'Person.ID.1_132222.0', 'Person.ID.1_132247.0',\n",
       "       'Person.ID.1_13352.0', 'Person.ID.1_134907.0',\n",
       "       'Person.ID.1_139852.0', 'Person.ID.1_140382.0',\n",
       "       'Person.ID.1_140397.0', 'Person.ID.1_1407.0',\n",
       "       'Person.ID.1_140997.0', 'Person.ID.1_14212.0',\n",
       "       'Person.ID.1_14262.0', 'Person.ID.1_14322.0',\n",
       "       'Person.ID.1_147677.0', 'Person.ID.1_147697.0',\n",
       "       'Person.ID.1_148837.0', 'Person.ID.1_15242.0',\n",
       "       'Person.ID.1_15472.0', 'Person.ID.1_15767.0',\n",
       "       'Person.ID.1_158617.0', 'Person.ID.1_16062.0',\n",
       "       'Person.ID.1_16302.0', 'Person.ID.1_16652.0',\n",
       "       'Person.ID.1_172812.0', 'Person.ID.1_17647.0',\n",
       "       'Person.ID.1_17782.0', 'Person.ID.1_18567.0', 'Person.ID.1_1862.0',\n",
       "       'Person.ID.1_18757.0', 'Person.ID.1_18997.0', 'Person.ID.1_19037.0',\n",
       "       'Person.ID.1_19627.0', 'Person.ID.1_19897.0', 'Person.ID.1_19997.0',\n",
       "       'Person.ID.1_20072.0', 'Person.ID.1_2107.0', 'Person.ID.1_2117.0',\n",
       "       'Person.ID.1_21872.0', 'Person.ID.1_22582.0', 'Person.ID.1_23302.0',\n",
       "       'Person.ID.1_23512.0', 'Person.ID.1_23872.0', 'Person.ID.1_25342.0',\n",
       "       'Person.ID.1_265767.0', 'Person.ID.1_2697.0', 'Person.ID.1_27157.0',\n",
       "       'Person.ID.1_27347.0', 'Person.ID.1_27502.0', 'Person.ID.1_28042.0',\n",
       "       'Person.ID.1_28682.0', 'Person.ID.1_28732.0', 'Person.ID.1_28932.0',\n",
       "       'Person.ID.1_296177.0', 'Person.ID.1_297202.0',\n",
       "       'Person.ID.1_29817.0', 'Person.ID.1_298802.0',\n",
       "       'Person.ID.1_303472.0', 'Person.ID.1_30467.0',\n",
       "       'Person.ID.1_30582.0', 'Person.ID.1_30612.0', 'Person.ID.1_31592.0',\n",
       "       'Person.ID.1_31697.0', 'Person.ID.1_32172.0',\n",
       "       'Person.ID.1_322527.0', 'Person.ID.1_32257.0',\n",
       "       'Person.ID.1_322697.0', 'Person.ID.1_32437.0',\n",
       "       'Person.ID.1_32857.0', 'Person.ID.1_329757.0',\n",
       "       'Person.ID.1_333727.0', 'Person.ID.1_335382.0',\n",
       "       'Person.ID.1_3362.0', 'Person.ID.1_33852.0', 'Person.ID.1_34417.0',\n",
       "       'Person.ID.1_34677.0', 'Person.ID.1_34817.0', 'Person.ID.1_35357.0',\n",
       "       'Person.ID.1_357487.0', 'Person.ID.1_360207.0',\n",
       "       'Person.ID.1_366782.0', 'Person.ID.1_37302.0',\n",
       "       'Person.ID.1_393667.0', 'Person.ID.1_405312.0',\n",
       "       'Person.ID.1_40607.0', 'Person.ID.1_40697.0', 'Person.ID.1_40797.0',\n",
       "       'Person.ID.1_41012.0', 'Person.ID.1_42322.0', 'Person.ID.1_43612.0',\n",
       "       'Person.ID.1_442782.0', 'Person.ID.1_45227.0',\n",
       "       'Person.ID.1_45317.0', 'Person.ID.1_45587.0', 'Person.ID.1_45847.0',\n",
       "       'Person.ID.1_45952.0', 'Person.ID.1_46062.0', 'Person.ID.1_46182.0',\n",
       "       'Person.ID.1_46237.0', 'Person.ID.1_47057.0', 'Person.ID.1_47992.0',\n",
       "       'Person.ID.1_48017.0', 'Person.ID.1_488677.0',\n",
       "       'Person.ID.1_488942.0', 'Person.ID.1_490032.0',\n",
       "       'Person.ID.1_490262.0', 'Person.ID.1_491012.0',\n",
       "       'Person.ID.1_491602.0', 'Person.ID.1_491842.0',\n",
       "       'Person.ID.1_493697.0', 'Person.ID.1_49592.0',\n",
       "       'Person.ID.1_500027.0', 'Person.ID.1_500157.0',\n",
       "       'Person.ID.1_500167.0', 'Person.ID.1_500177.0',\n",
       "       'Person.ID.1_500387.0', 'Person.ID.1_500457.0',\n",
       "       'Person.ID.1_500462.0', 'Person.ID.1_50952.0',\n",
       "       'Person.ID.1_51362.0', 'Person.ID.1_53237.0', 'Person.ID.1_53507.0',\n",
       "       'Person.ID.1_56097.0', 'Person.ID.1_56447.0', 'Person.ID.1_56692.0',\n",
       "       'Person.ID.1_5672.0', 'Person.ID.1_57192.0', 'Person.ID.1_5737.0',\n",
       "       'Person.ID.1_586442.0', 'Person.ID.1_58647.0',\n",
       "       'Person.ID.1_588877.0', 'Person.ID.1_59402.0',\n",
       "       'Person.ID.1_594857.0', 'Person.ID.1_595677.0',\n",
       "       'Person.ID.1_602087.0', 'Person.ID.1_602687.0',\n",
       "       'Person.ID.1_606322.0', 'Person.ID.1_607102.0',\n",
       "       'Person.ID.1_608447.0', 'Person.ID.1_6117.0',\n",
       "       'Person.ID.1_614142.0', 'Person.ID.1_615302.0',\n",
       "       'Person.ID.1_620807.0', 'Person.ID.1_622587.0',\n",
       "       'Person.ID.1_625537.0', 'Person.ID.1_626397.0',\n",
       "       'Person.ID.1_63192.0', 'Person.ID.1_63257.0', 'Person.ID.1_6332.0',\n",
       "       'Person.ID.1_633387.0', 'Person.ID.1_63462.0',\n",
       "       'Person.ID.1_636347.0', 'Person.ID.1_63667.0',\n",
       "       'Person.ID.1_637532.0', 'Person.ID.1_64102.0',\n",
       "       'Person.ID.1_64267.0', 'Person.ID.1_644562.0',\n",
       "       'Person.ID.1_64642.0', 'Person.ID.1_651957.0',\n",
       "       'Person.ID.1_65402.0', 'Person.ID.1_65667.0', 'Person.ID.1_65812.0',\n",
       "       'Person.ID.1_664052.0', 'Person.ID.1_66462.0',\n",
       "       'Person.ID.1_66637.0', 'Person.ID.1_667512.0',\n",
       "       'Person.ID.1_66767.0', 'Person.ID.1_668387.0',\n",
       "       'Person.ID.1_67077.0', 'Person.ID.1_671847.0',\n",
       "       'Person.ID.1_67272.0', 'Person.ID.1_67297.0', 'Person.ID.1_67327.0',\n",
       "       'Person.ID.1_67392.0', 'Person.ID.1_6742.0', 'Person.ID.1_67577.0',\n",
       "       'Person.ID.1_67857.0', 'Person.ID.1_67882.0',\n",
       "       'Person.ID.1_679242.0', 'Person.ID.1_67927.0',\n",
       "       'Person.ID.1_679342.0', 'Person.ID.1_681742.0',\n",
       "       'Person.ID.1_683547.0', 'Person.ID.1_68467.0',\n",
       "       'Person.ID.1_686852.0', 'Person.ID.1_68692.0',\n",
       "       'Person.ID.1_688372.0', 'Person.ID.1_68902.0',\n",
       "       'Person.ID.1_69152.0', 'Person.ID.1_70707.0', 'Person.ID.1_70712.0',\n",
       "       'Person.ID.1_711192.0', 'Person.ID.1_711207.0',\n",
       "       'Person.ID.1_71752.0', 'Person.ID.1_71902.0',\n",
       "       'Person.ID.1_719232.0', 'Person.ID.1_71932.0',\n",
       "       'Person.ID.1_72087.0', 'Person.ID.1_72317.0', 'Person.ID.1_72507.0',\n",
       "       'Person.ID.1_7252.0', 'Person.ID.1_72537.0', 'Person.ID.1_72622.0',\n",
       "       'Person.ID.1_72652.0', 'Person.ID.1_726872.0',\n",
       "       'Person.ID.1_727002.0', 'Person.ID.1_730217.0',\n",
       "       'Person.ID.1_73037.0', 'Person.ID.1_730882.0',\n",
       "       'Person.ID.1_731667.0', 'Person.ID.1_733502.0',\n",
       "       'Person.ID.1_73632.0', 'Person.ID.1_73962.0', 'Person.ID.1_74012.0',\n",
       "       'Person.ID.1_74252.0', 'Person.ID.1_74317.0', 'Person.ID.1_74322.0',\n",
       "       'Person.ID.1_74487.0', 'Person.ID.1_74542.0',\n",
       "       'Person.ID.1_746152.0', 'Person.ID.1_74717.0',\n",
       "       'Person.ID.1_747267.0', 'Person.ID.1_74932.0',\n",
       "       'Person.ID.1_74957.0', 'Person.ID.1_75052.0',\n",
       "       'Person.ID.1_750777.0', 'Person.ID.1_75082.0',\n",
       "       'Person.ID.1_752162.0', 'Person.ID.1_75407.0',\n",
       "       'Person.ID.1_75447.0', 'Person.ID.1_75942.0', 'Person.ID.1_76307.0',\n",
       "       'Person.ID.1_76397.0', 'Person.ID.1_76732.0', 'Person.ID.1_76812.0',\n",
       "       'Person.ID.1_77292.0', 'Person.ID.1_77402.0', 'Person.ID.1_77457.0',\n",
       "       'Person.ID.1_775402.0', 'Person.ID.1_776122.0',\n",
       "       'Person.ID.1_77817.0', 'Person.ID.1_77892.0',\n",
       "       'Person.ID.1_780507.0', 'Person.ID.1_782002.0',\n",
       "       'Person.ID.1_78312.0', 'Person.ID.1_78327.0', 'Person.ID.1_78977.0',\n",
       "       'Person.ID.1_79062.0', 'Person.ID.1_79182.0', 'Person.ID.1_79427.0',\n",
       "       'Person.ID.1_79602.0', 'Person.ID.1_79702.0', 'Person.ID.1_79907.0',\n",
       "       'Person.ID.1_80397.0', 'Person.ID.1_80477.0', 'Person.ID.1_80677.0',\n",
       "       'Person.ID.1_80687.0', 'Person.ID.1_80722.0',\n",
       "       'Person.ID.1_810057.0', 'Person.ID.1_81087.0',\n",
       "       'Person.ID.1_81642.0', 'Person.ID.1_817367.0',\n",
       "       'Person.ID.1_82142.0', 'Person.ID.1_82172.0', 'Person.ID.1_82507.0',\n",
       "       'Person.ID.1_82542.0', 'Person.ID.1_827967.0', 'Person.ID.1_8312.0',\n",
       "       'Person.ID.1_8317.0', 'Person.ID.1_83552.0', 'Person.ID.1_857.0',\n",
       "       'Person.ID.1_85907.0', 'Person.ID.1_860357.0',\n",
       "       'Person.ID.1_862297.0', 'Person.ID.1_8667.0',\n",
       "       'Person.ID.1_867367.0', 'Person.ID.1_870077.0',\n",
       "       'Person.ID.1_874497.0', 'Person.ID.1_87542.0',\n",
       "       'Person.ID.1_882167.0', 'Person.ID.1_884582.0',\n",
       "       'Person.ID.1_884667.0', 'Person.ID.1_885652.0',\n",
       "       'Person.ID.1_887552.0', 'Person.ID.1_887717.0',\n",
       "       'Person.ID.1_888932.0', 'Person.ID.1_89777.0',\n",
       "       'Person.ID.1_89902.0', 'Person.ID.1_904322.0',\n",
       "       'Person.ID.1_906612.0', 'Person.ID.1_907.0', 'Person.ID.1_909427.0',\n",
       "       'Person.ID.1_91387.0', 'Person.ID.1_92047.0', 'Person.ID.1_92307.0',\n",
       "       'Person.ID.1_925237.0', 'Person.ID.1_928167.0',\n",
       "       'Person.ID.1_929972.0', 'Person.ID.1_93072.0',\n",
       "       'Person.ID.1_935157.0', 'Person.ID.1_93647.0',\n",
       "       'Person.ID.1_94187.0', 'Person.ID.1_946327.0',\n",
       "       'Person.ID.1_951382.0', 'Person.ID.1_952677.0',\n",
       "       'Person.ID.1_9542.0', 'Person.ID.1_961672.0',\n",
       "       'Person.ID.1_970852.0', 'Person.ID.1_986387.0',\n",
       "       'Person.ID.1_991332.0', 'C.1_45.0', 'C.1_46.0', 'C.1_61.0',\n",
       "       'SEO.Code.4_620501.0', 'SEO.Code.4_630299.0', 'SEO.Code.4_630399.0',\n",
       "       'SEO.Code.4_670306.0', 'SEO.Code.4_670602.0', 'SEO.Code.4_680602.0',\n",
       "       'SEO.Code.4_730207.0', 'SEO.Code.4_730307.0', 'SEO.Code.4_750503.0',\n",
       "       'SEO.Code.4_750902.0', 'SEO.Code.4_770502.0', 'SEO.Code.4_770703.0',\n",
       "       'SEO.Code.4_770707.0', 'SEO.Code.4_770805.0', 'SEO.Code.2_620202.0',\n",
       "       'SEO.Code.2_620401.0', 'SEO.Code.2_630201.0', 'SEO.Code.2_630203.0',\n",
       "       'SEO.Code.2_630299.0', 'SEO.Code.2_630301.0', 'SEO.Code.2_640103.0',\n",
       "       'SEO.Code.2_640403.0', 'SEO.Code.2_660205.0', 'SEO.Code.2_660303.0',\n",
       "       'SEO.Code.2_670100.0', 'SEO.Code.2_670105.0', 'SEO.Code.2_670400.0',\n",
       "       'SEO.Code.2_670999.0', 'SEO.Code.2_671199.0', 'SEO.Code.2_680301.0',\n",
       "       'SEO.Code.2_680502.0', 'SEO.Code.2_680504.0', 'SEO.Code.2_680603.0',\n",
       "       'SEO.Code.2_690302.0', 'SEO.Code.2_690402.0', 'SEO.Code.2_710302.0',\n",
       "       'SEO.Code.2_710403.0', 'SEO.Code.2_710599.0', 'SEO.Code.2_710603.0',\n",
       "       'SEO.Code.2_710702.0', 'SEO.Code.2_720301.0', 'SEO.Code.2_720399.0',\n",
       "       'SEO.Code.2_720404.0', 'SEO.Code.2_730216.0', 'SEO.Code.2_750602.0',\n",
       "       'SEO.Code.2_760199.0', 'SEO.Code.2_760202.0', 'SEO.Code.2_770202.0',\n",
       "       'SEO.Code.2_770402.0', 'SEO.Code.2_770405.0', 'SEO.Code.2_770799.0',\n",
       "       'SEO.Code.2_770906.0', 'SEO.Code.2_771102.0', 'B.1_35.0',\n",
       "       'RFCD.Code.1_240503.0', 'RFCD.Code.1_250399.0',\n",
       "       'RFCD.Code.1_250405.0', 'RFCD.Code.1_250503.0',\n",
       "       'RFCD.Code.1_260199.0', 'RFCD.Code.1_260401.0',\n",
       "       'RFCD.Code.1_269999.0', 'RFCD.Code.1_270000.0',\n",
       "       'RFCD.Code.1_280105.0', 'RFCD.Code.1_290702.0',\n",
       "       'RFCD.Code.1_290805.0', 'RFCD.Code.1_291502.0',\n",
       "       'RFCD.Code.1_291707.0', 'RFCD.Code.1_300302.0',\n",
       "       'RFCD.Code.1_300502.0', 'RFCD.Code.1_300705.0',\n",
       "       'RFCD.Code.1_320200.0', 'RFCD.Code.1_320203.0',\n",
       "       'RFCD.Code.1_320204.0', 'RFCD.Code.1_320803.0',\n",
       "       'RFCD.Code.1_321200.0', 'RFCD.Code.1_321215.0',\n",
       "       'RFCD.Code.1_329902.0', 'RFCD.Code.1_340301.0',\n",
       "       'RFCD.Code.1_340404.0', 'RFCD.Code.1_340499.0',\n",
       "       'RFCD.Code.1_350399.0', 'RFCD.Code.1_350405.0',\n",
       "       'RFCD.Code.1_350501.0', 'RFCD.Code.1_350504.0',\n",
       "       'RFCD.Code.1_360103.0', 'RFCD.Code.1_370203.0',\n",
       "       'RFCD.Code.1_370502.0', 'RFCD.Code.1_370699.0',\n",
       "       'RFCD.Code.1_379902.0', 'RFCD.Code.1_380304.0',\n",
       "       'RFCD.Code.1_390116.0', 'RFCD.Code.1_390399.0',\n",
       "       'RFCD.Code.1_410299.0', 'RFCD.Code.1_410301.0',\n",
       "       'RFCD.Code.1_420103.0', 'RFCD.Code.1_420215.0',\n",
       "       'RFCD.Code.1_430112.0', 'A..1_33.0', 'A..1_34.0', 'A..1_74.0',\n",
       "       'A..1_79.0', 'SEO.Code.5_630501.0', 'SEO.Code.5_630503.0',\n",
       "       'SEO.Code.5_670403.0', 'SEO.Code.5_680603.0', 'SEO.Code.5_730214.0',\n",
       "       'SEO.Code.5_750702.0', 'SEO.Code.5_750802.0',\n",
       "       'RFCD.Code.4_250699.0', 'RFCD.Code.4_270102.0',\n",
       "       'RFCD.Code.4_270306.0', 'RFCD.Code.4_270709.0',\n",
       "       'RFCD.Code.4_270804.0', 'RFCD.Code.4_290603.0',\n",
       "       'RFCD.Code.4_291104.0', 'RFCD.Code.4_300202.0',\n",
       "       'RFCD.Code.4_300205.0', 'RFCD.Code.4_300303.0',\n",
       "       'RFCD.Code.4_300399.0', 'RFCD.Code.4_300604.0',\n",
       "       'RFCD.Code.4_310299.0', 'RFCD.Code.4_320503.0',\n",
       "       'RFCD.Code.4_320999.0', 'RFCD.Code.4_321201.0',\n",
       "       'RFCD.Code.4_321399.0', 'RFCD.Code.4_329901.0',\n",
       "       'RFCD.Code.4_329902.0', 'RFCD.Code.4_370102.0',\n",
       "       'RFCD.Code.4_399901.0', 'RFCD.Code.4_410202.0',\n",
       "       'RFCD.Code.4_440202.0', 'RFCD.Code.2_230117.0',\n",
       "       'RFCD.Code.2_239902.0', 'RFCD.Code.2_239999.0',\n",
       "       'RFCD.Code.2_250407.0', 'RFCD.Code.2_250499.0',\n",
       "       'RFCD.Code.2_250501.0', 'RFCD.Code.2_259903.0',\n",
       "       'RFCD.Code.2_260304.0', 'RFCD.Code.2_260402.0',\n",
       "       'RFCD.Code.2_270207.0', 'RFCD.Code.2_270306.0',\n",
       "       'RFCD.Code.2_270801.0', 'RFCD.Code.2_279999.0',\n",
       "       'RFCD.Code.2_280105.0', 'RFCD.Code.2_280399.0',\n",
       "       'RFCD.Code.2_280402.0', 'RFCD.Code.2_280406.0',\n",
       "       'RFCD.Code.2_280599.0', 'RFCD.Code.2_290000.0',\n",
       "       'RFCD.Code.2_290207.0', 'RFCD.Code.2_290309.0',\n",
       "       'RFCD.Code.2_290399.0', 'RFCD.Code.2_290704.0',\n",
       "       'RFCD.Code.2_290899.0', 'RFCD.Code.2_290903.0',\n",
       "       'RFCD.Code.2_291202.0', 'RFCD.Code.2_300105.0',\n",
       "       'RFCD.Code.2_300301.0', 'RFCD.Code.2_300404.0',\n",
       "       'RFCD.Code.2_300512.0', 'RFCD.Code.2_300606.0',\n",
       "       'RFCD.Code.2_309999.0', 'RFCD.Code.2_320000.0',\n",
       "       'RFCD.Code.2_320601.0', 'RFCD.Code.2_320803.0',\n",
       "       'RFCD.Code.2_321025.0', 'RFCD.Code.2_321199.0',\n",
       "       'RFCD.Code.2_321217.0', 'RFCD.Code.2_321403.0',\n",
       "       'RFCD.Code.2_321404.0', 'RFCD.Code.2_330201.0',\n",
       "       'RFCD.Code.2_330205.0', 'RFCD.Code.2_330307.0',\n",
       "       'RFCD.Code.2_340101.0', 'RFCD.Code.2_340213.0',\n",
       "       'RFCD.Code.2_360204.0', 'RFCD.Code.2_369999.0',\n",
       "       'RFCD.Code.2_370499.0', 'RFCD.Code.2_370601.0',\n",
       "       'RFCD.Code.2_380103.0', 'RFCD.Code.2_380104.0',\n",
       "       'RFCD.Code.2_380206.0', 'RFCD.Code.2_389999.0',\n",
       "       'RFCD.Code.2_390201.0', 'RFCD.Code.2_410299.0',\n",
       "       'RFCD.Code.2_420108.0', 'RFCD.Code.2_420203.0',\n",
       "       'RFCD.Code.2_430207.0', 'RFCD.Code.2_440103.0',\n",
       "       'RFCD.Code.2_440110.0', 'A.1_45.0', 'A.1_48.0', 'A.1_87.0',\n",
       "       'Sponsor.Code_128D', 'Sponsor.Code_130B', 'Sponsor.Code_134B',\n",
       "       'Sponsor.Code_145A', 'Sponsor.Code_146B', 'Sponsor.Code_147C',\n",
       "       'Sponsor.Code_151C', 'Sponsor.Code_156D', 'Sponsor.Code_160D',\n",
       "       'Sponsor.Code_195C', 'Sponsor.Code_204D', 'Sponsor.Code_207C',\n",
       "       'Sponsor.Code_211C', 'Sponsor.Code_216D', 'Sponsor.Code_242B',\n",
       "       'Sponsor.Code_244D', 'Sponsor.Code_259C', 'Sponsor.Code_265A',\n",
       "       'Sponsor.Code_267C', 'Sponsor.Code_275C', 'Sponsor.Code_284D',\n",
       "       'Sponsor.Code_286B', 'Sponsor.Code_289A', 'Sponsor.Code_299C',\n",
       "       'Sponsor.Code_308D', 'Sponsor.Code_323C', 'Sponsor.Code_325A',\n",
       "       'Sponsor.Code_342B', 'Sponsor.Code_346B', 'Sponsor.Code_362B',\n",
       "       'Sponsor.Code_415C', 'Sponsor.Code_437A', 'Sponsor.Code_48D',\n",
       "       'Sponsor.Code_74B', 'Sponsor.Code_81A', 'Sponsor.Code_82B',\n",
       "       'RFCD.Code.3_230111.0', 'RFCD.Code.3_240203.0',\n",
       "       'RFCD.Code.3_249999.0', 'RFCD.Code.3_250104.0',\n",
       "       'RFCD.Code.3_250203.0', 'RFCD.Code.3_250501.0',\n",
       "       'RFCD.Code.3_250605.0', 'RFCD.Code.3_259904.0',\n",
       "       'RFCD.Code.3_260107.0', 'RFCD.Code.3_260603.0',\n",
       "       'RFCD.Code.3_270204.0', 'RFCD.Code.3_270300.0',\n",
       "       'RFCD.Code.3_270403.0', 'RFCD.Code.3_270499.0',\n",
       "       'RFCD.Code.3_279999.0', 'RFCD.Code.3_280104.0',\n",
       "       'RFCD.Code.3_280107.0', 'RFCD.Code.3_280201.0',\n",
       "       'RFCD.Code.3_280305.0', 'RFCD.Code.3_280405.0',\n",
       "       'RFCD.Code.3_280406.0', 'RFCD.Code.3_280499.0',\n",
       "       'RFCD.Code.3_280505.0', 'RFCD.Code.3_290101.0',\n",
       "       'RFCD.Code.3_290399.0', 'RFCD.Code.3_290703.0',\n",
       "       'RFCD.Code.3_290801.0', 'RFCD.Code.3_291002.0',\n",
       "       'RFCD.Code.3_291104.0', 'RFCD.Code.3_291501.0',\n",
       "       'RFCD.Code.3_291704.0', 'RFCD.Code.3_291706.0',\n",
       "       'RFCD.Code.3_299999.0', 'RFCD.Code.3_300203.0',\n",
       "       'RFCD.Code.3_300303.0', 'RFCD.Code.3_300702.0',\n",
       "       'RFCD.Code.3_300800.0', 'RFCD.Code.3_300804.0',\n",
       "       'RFCD.Code.3_300901.0', 'RFCD.Code.3_309902.0',\n",
       "       'RFCD.Code.3_310201.0', 'RFCD.Code.3_319999.0',\n",
       "       'RFCD.Code.3_320206.0', 'RFCD.Code.3_320599.0',\n",
       "       'RFCD.Code.3_320699.0', 'RFCD.Code.3_321006.0',\n",
       "       'RFCD.Code.3_321019.0', 'RFCD.Code.3_321023.0',\n",
       "       'RFCD.Code.3_321301.0', 'RFCD.Code.3_321403.0',\n",
       "       'RFCD.Code.3_321405.0', 'RFCD.Code.3_340204.0',\n",
       "       'RFCD.Code.3_340401.0', 'RFCD.Code.3_350203.0',\n",
       "       'RFCD.Code.3_350599.0', 'RFCD.Code.3_370104.0',\n",
       "       'RFCD.Code.3_370399.0', 'RFCD.Code.3_370499.0',\n",
       "       'RFCD.Code.3_370601.0', 'RFCD.Code.3_370699.0',\n",
       "       'RFCD.Code.3_380205.0', 'RFCD.Code.3_380302.0',\n",
       "       'RFCD.Code.3_390101.0', 'RFCD.Code.3_390405.0',\n",
       "       'RFCD.Code.3_400302.0', 'RFCD.Code.3_410101.0',\n",
       "       'RFCD.Code.3_410403.0', 'RFCD.Code.3_420217.0',\n",
       "       'RFCD.Code.3_429999.0', 'RFCD.Code.3_430102.0',\n",
       "       'RFCD.Code.3_430108.0', 'RFCD.Code.3_430201.0',\n",
       "       'RFCD.Code.3_440101.0', 'RFCD.Code.3_440103.0',\n",
       "       'RFCD.Code.3_440107.0', 'SEO.Code.1_610101.0',\n",
       "       'SEO.Code.1_620103.0', 'SEO.Code.1_620199.0', 'SEO.Code.1_620201.0',\n",
       "       'SEO.Code.1_620305.0', 'SEO.Code.1_620499.0', 'SEO.Code.1_630504.0',\n",
       "       'SEO.Code.1_640304.0', 'SEO.Code.1_640402.0', 'SEO.Code.1_650201.0',\n",
       "       'SEO.Code.1_650302.0', 'SEO.Code.1_660101.0', 'SEO.Code.1_660204.0',\n",
       "       'SEO.Code.1_660401.0', 'SEO.Code.1_660502.0', 'SEO.Code.1_670104.0',\n",
       "       'SEO.Code.1_670108.0', 'SEO.Code.1_670707.0', 'SEO.Code.1_670799.0',\n",
       "       'SEO.Code.1_671601.0', 'SEO.Code.1_680101.0', 'SEO.Code.1_680304.0',\n",
       "       'SEO.Code.1_680501.0', 'SEO.Code.1_710103.0', 'SEO.Code.1_710403.0',\n",
       "       'SEO.Code.1_720103.0', 'SEO.Code.1_720205.0', 'SEO.Code.1_720303.0',\n",
       "       'SEO.Code.1_720399.0', 'SEO.Code.1_720402.0', 'SEO.Code.1_740100.0',\n",
       "       'SEO.Code.1_749902.0', 'SEO.Code.1_750203.0', 'SEO.Code.1_750499.0',\n",
       "       'SEO.Code.1_750603.0', 'SEO.Code.1_750899.0', 'SEO.Code.1_759900.0',\n",
       "       'SEO.Code.1_769999.0', 'SEO.Code.1_770201.0', 'SEO.Code.1_770304.0',\n",
       "       'SEO.Code.1_770707.0', 'SEO.Code.1_770799.0', 'SEO.Code.1_770803.0',\n",
       "       'SEO.Code.1_771103.0', 'SEO.Code.1_779904.0',\n",
       "       'RFCD.Code.5_240304.0', 'RFCD.Code.5_270103.0',\n",
       "       'RFCD.Code.5_270105.0', 'RFCD.Code.5_319999.0',\n",
       "       'RFCD.Code.5_321206.0', 'RFCD.Code.5_370402.0',\n",
       "       'RFCD.Code.5_419901.0', 'SEO.Code.3_620204.0',\n",
       "       'SEO.Code.3_620205.0', 'SEO.Code.3_630101.0', 'SEO.Code.3_630202.0',\n",
       "       'SEO.Code.3_630301.0', 'SEO.Code.3_670199.0', 'SEO.Code.3_670304.0',\n",
       "       'SEO.Code.3_670502.0', 'SEO.Code.3_670699.0', 'SEO.Code.3_670706.0',\n",
       "       'SEO.Code.3_671305.0', 'SEO.Code.3_671706.0', 'SEO.Code.3_671712.0',\n",
       "       'SEO.Code.3_680201.0', 'SEO.Code.3_680304.0', 'SEO.Code.3_680402.0',\n",
       "       'SEO.Code.3_680403.0', 'SEO.Code.3_700102.0', 'SEO.Code.3_700201.0',\n",
       "       'SEO.Code.3_720199.0', 'SEO.Code.3_729901.0', 'SEO.Code.3_750101.0',\n",
       "       'SEO.Code.3_750310.0', 'SEO.Code.3_770804.0', 'SEO.Code.3_779906.0',\n",
       "       'Dept.No..1_1013.0', 'Dept.No..1_163.0', 'Dept.No..1_3773.0',\n",
       "       'Dept.No..1_4063.0', 'Dept.No..1_4203.0', 'Dept.No..1_4418.0'], dtype=object)"
      ]
     },
     "execution_count": 52,
     "metadata": {},
     "output_type": "execute_result"
    }
   ],
   "source": [
    "X_train_zeros.columns.values[(grid_cv_lasso.best_estimator_.coef_ == 0).flatten()]"
   ]
  }
 ],
 "metadata": {
  "kernelspec": {
   "display_name": "Python 3",
   "language": "python",
   "name": "python3"
  },
  "language_info": {
   "codemirror_mode": {
    "name": "ipython",
    "version": 3
   },
   "file_extension": ".py",
   "mimetype": "text/x-python",
   "name": "python",
   "nbconvert_exporter": "python",
   "pygments_lexer": "ipython3",
   "version": "3.6.5"
  }
 },
 "nbformat": 4,
 "nbformat_minor": 1
}
