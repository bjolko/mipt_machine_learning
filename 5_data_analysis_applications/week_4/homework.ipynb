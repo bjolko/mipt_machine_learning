{
 "cells": [
  {
   "cell_type": "markdown",
   "metadata": {},
   "source": [
    "# Programming Assignment: Рекомендательные системы"
   ]
  },
  {
   "cell_type": "code",
   "execution_count": 1,
   "metadata": {
    "collapsed": true
   },
   "outputs": [],
   "source": [
    "import pandas as pd\n",
    "import numpy as np\n",
    "\n",
    "from collections import Counter"
   ]
  },
  {
   "cell_type": "code",
   "execution_count": 2,
   "metadata": {
    "collapsed": true
   },
   "outputs": [],
   "source": [
    "train = pd.read_csv('coursera_sessions_train.txt', sep = ';', header = None, names=['seen', 'bought'])\n",
    "\n",
    "test = pd.read_csv('coursera_sessions_test.txt', sep = ';', header = None, names=['seen', 'bought'])"
   ]
  },
  {
   "cell_type": "code",
   "execution_count": 8,
   "metadata": {
    "collapsed": true
   },
   "outputs": [],
   "source": [
    "train_clean = train.dropna()\n",
    "test_clean = test.dropna()"
   ]
  },
  {
   "cell_type": "code",
   "execution_count": 3,
   "metadata": {
    "collapsed": true
   },
   "outputs": [],
   "source": [
    "train_seen = []\n",
    "\n",
    "for line in train.seen:\n",
    "    for elt in line.split(','):\n",
    "        train_seen.append(elt)"
   ]
  },
  {
   "cell_type": "code",
   "execution_count": 6,
   "metadata": {},
   "outputs": [],
   "source": [
    "train_seen_cnt = Counter(train_seen)"
   ]
  },
  {
   "cell_type": "code",
   "execution_count": 7,
   "metadata": {
    "collapsed": true
   },
   "outputs": [],
   "source": [
    "del train_seen"
   ]
  },
  {
   "cell_type": "code",
   "execution_count": 18,
   "metadata": {
    "collapsed": true
   },
   "outputs": [],
   "source": [
    "train_lines = train_clean.shape[0]"
   ]
  },
  {
   "cell_type": "code",
   "execution_count": 43,
   "metadata": {},
   "outputs": [
    {
     "name": "stdout",
     "output_type": "stream",
     "text": [
      "Wall time: 47.4 s\n"
     ]
    }
   ],
   "source": [
    "%%time\n",
    "\n",
    "n = 0\n",
    "\n",
    "train_seen_metric_1 = []\n",
    "train_seen_metric_2 = []\n",
    "train_seen_metric_3 = []\n",
    "train_seen_metric_4 = []\n",
    "\n",
    "for i in range(train_lines):\n",
    "    unq = pd.unique(str(train_clean.seen.iloc[i]).split(','))\n",
    "    train_freq = pd.DataFrame(columns = ['id', 'pos', 'freq'])\n",
    "    for elt in unq:\n",
    "        if elt != ',':\n",
    "            train_freq.loc[n] = [elt, n + 1, train_seen_cnt[elt]]\n",
    "            train_freq.sort_values(['freq', 'pos'], ascending=[False, True], inplace=True)\n",
    "            n += 1\n",
    "    recom = train_freq.id[:5]\n",
    "    bgt = train_clean.bought.iloc[i].split(',')\n",
    "    \n",
    "    m4 = len(set(recom).intersection(bgt))/5\n",
    "    m3 = len(set(recom).intersection(bgt))/len(bgt) \n",
    "    m2 = len(set(recom[:1]).intersection(bgt))\n",
    "    m1 = len(set(recom[:1]).intersection(bgt))/len(bgt)\n",
    "    train_seen_metric_1.append(m1)\n",
    "    train_seen_metric_2.append(m2)\n",
    "    train_seen_metric_3.append(m3)\n",
    "    train_seen_metric_4.append(m4)"
   ]
  },
  {
   "cell_type": "code",
   "execution_count": 44,
   "metadata": {},
   "outputs": [],
   "source": [
    "ans1 = round(float(np.mean(train_seen_metric_1)), 2)\n",
    "ans2 = round(float(np.mean(train_seen_metric_2)), 2)\n",
    "ans3 = round(float(np.mean(train_seen_metric_3)), 2)\n",
    "ans4 = round(float(np.mean(train_seen_metric_4)), 2)"
   ]
  },
  {
   "cell_type": "code",
   "execution_count": 52,
   "metadata": {},
   "outputs": [],
   "source": [
    "answer1 = []\n",
    "\n",
    "for i in [ans1, ans2, ans3, ans4]:\n",
    "    answer1.append(str(i))"
   ]
  },
  {
   "cell_type": "code",
   "execution_count": 46,
   "metadata": {},
   "outputs": [],
   "source": [
    "def write_answer_1(x):\n",
    "    with open(\"answer1.txt\", \"w\") as fout:\n",
    "        fout.write(str(x))"
   ]
  },
  {
   "cell_type": "code",
   "execution_count": 54,
   "metadata": {},
   "outputs": [],
   "source": [
    "write_answer_1(\" \".join(answer1))"
   ]
  },
  {
   "cell_type": "code",
   "execution_count": 55,
   "metadata": {
    "collapsed": true
   },
   "outputs": [],
   "source": [
    "del train_seen_cnt"
   ]
  },
  {
   "cell_type": "markdown",
   "metadata": {},
   "source": [
    "### Question 2 (3)"
   ]
  },
  {
   "cell_type": "code",
   "execution_count": 56,
   "metadata": {
    "collapsed": true
   },
   "outputs": [],
   "source": [
    "train_bought = []\n",
    "\n",
    "for line in train.bought.dropna():\n",
    "    for elt in line.split(','):\n",
    "        train_bought.append(elt)"
   ]
  },
  {
   "cell_type": "code",
   "execution_count": 57,
   "metadata": {
    "collapsed": true
   },
   "outputs": [],
   "source": [
    "train_bought_cnt = Counter(train_bought)"
   ]
  },
  {
   "cell_type": "code",
   "execution_count": 58,
   "metadata": {
    "collapsed": true
   },
   "outputs": [],
   "source": [
    "del train_bought"
   ]
  },
  {
   "cell_type": "code",
   "execution_count": 59,
   "metadata": {},
   "outputs": [
    {
     "name": "stdout",
     "output_type": "stream",
     "text": [
      "Wall time: 47.6 s\n"
     ]
    }
   ],
   "source": [
    "%%time\n",
    "\n",
    "n = 0\n",
    "\n",
    "train_seen_metric_1 = []\n",
    "train_seen_metric_2 = []\n",
    "train_seen_metric_3 = []\n",
    "train_seen_metric_4 = []\n",
    "\n",
    "for i in range(train_lines):\n",
    "    unq = pd.unique(str(train_clean.seen.iloc[i]).split(','))\n",
    "    train_freq = pd.DataFrame(columns = ['id', 'pos', 'freq'])\n",
    "    for elt in unq:\n",
    "        if elt != ',':\n",
    "            train_freq.loc[n] = [elt, n + 1, train_bought_cnt[elt]]\n",
    "            train_freq.sort_values(['freq', 'pos'], ascending=[False, True], inplace=True)\n",
    "            n += 1\n",
    "    recom = train_freq.id[:5]\n",
    "    bgt = train_clean.bought.iloc[i].split(',')\n",
    "    \n",
    "    m4 = len(set(recom).intersection(bgt))/5\n",
    "    m3 = len(set(recom).intersection(bgt))/len(bgt) \n",
    "    m2 = len(set(recom[:1]).intersection(bgt))\n",
    "    m1 = len(set(recom[:1]).intersection(bgt))/len(bgt)\n",
    "    train_seen_metric_1.append(m1)\n",
    "    train_seen_metric_2.append(m2)\n",
    "    train_seen_metric_3.append(m3)\n",
    "    train_seen_metric_4.append(m4)"
   ]
  },
  {
   "cell_type": "code",
   "execution_count": 60,
   "metadata": {
    "collapsed": true
   },
   "outputs": [],
   "source": [
    "ans1 = round(float(np.mean(train_seen_metric_1)), 2)\n",
    "ans2 = round(float(np.mean(train_seen_metric_2)), 2)\n",
    "ans3 = round(float(np.mean(train_seen_metric_3)), 2)\n",
    "ans4 = round(float(np.mean(train_seen_metric_4)), 2)"
   ]
  },
  {
   "cell_type": "code",
   "execution_count": 61,
   "metadata": {
    "collapsed": true
   },
   "outputs": [],
   "source": [
    "answer2 = []\n",
    "\n",
    "for i in [ans1, ans2, ans3, ans4]:\n",
    "    answer2.append(str(i))"
   ]
  },
  {
   "cell_type": "code",
   "execution_count": 62,
   "metadata": {
    "collapsed": true
   },
   "outputs": [],
   "source": [
    "def write_answer_2(x):\n",
    "    with open(\"answer2.txt\", \"w\") as fout:\n",
    "        fout.write(str(x))"
   ]
  },
  {
   "cell_type": "code",
   "execution_count": 63,
   "metadata": {
    "collapsed": true
   },
   "outputs": [],
   "source": [
    "write_answer_2(\" \".join(answer2))"
   ]
  },
  {
   "cell_type": "code",
   "execution_count": 64,
   "metadata": {
    "collapsed": true
   },
   "outputs": [],
   "source": [
    "del train_bought_cnt"
   ]
  },
  {
   "cell_type": "markdown",
   "metadata": {},
   "source": [
    "### Question 3 (2)"
   ]
  },
  {
   "cell_type": "code",
   "execution_count": 76,
   "metadata": {
    "collapsed": true
   },
   "outputs": [],
   "source": [
    "train_seen = []\n",
    "\n",
    "for line in train.seen:\n",
    "    for elt in line.split(','):\n",
    "        train_seen.append(elt)"
   ]
  },
  {
   "cell_type": "code",
   "execution_count": 77,
   "metadata": {
    "collapsed": true
   },
   "outputs": [],
   "source": [
    "train_seen_cnt = Counter(train_seen)"
   ]
  },
  {
   "cell_type": "code",
   "execution_count": 78,
   "metadata": {
    "collapsed": true
   },
   "outputs": [],
   "source": [
    "del train_seen"
   ]
  },
  {
   "cell_type": "code",
   "execution_count": 79,
   "metadata": {
    "collapsed": true
   },
   "outputs": [],
   "source": [
    "test_lines = test_clean.shape[0]"
   ]
  },
  {
   "cell_type": "code",
   "execution_count": 80,
   "metadata": {},
   "outputs": [
    {
     "name": "stdout",
     "output_type": "stream",
     "text": [
      "Wall time: 48.6 s\n"
     ]
    }
   ],
   "source": [
    "%%time\n",
    "\n",
    "n = 0\n",
    "\n",
    "train_seen_metric_1 = []\n",
    "train_seen_metric_2 = []\n",
    "train_seen_metric_3 = []\n",
    "train_seen_metric_4 = []\n",
    "\n",
    "for i in range(test_lines):\n",
    "    unq = pd.unique(str(test_clean.seen.iloc[i]).split(','))\n",
    "    train_freq = pd.DataFrame(columns = ['id', 'pos', 'freq'])\n",
    "    for elt in unq:\n",
    "        if elt != ',':\n",
    "            train_freq.loc[n] = [elt, n + 1, train_seen_cnt[elt]]\n",
    "            train_freq.sort_values(['freq', 'pos'], ascending=[False, True], inplace=True)\n",
    "            n += 1\n",
    "    recom = train_freq.id[:5]\n",
    "    bgt = test_clean.bought.iloc[i].split(',')\n",
    "    \n",
    "    m4 = len(set(recom).intersection(bgt))/5\n",
    "    m3 = len(set(recom).intersection(bgt))/len(bgt) \n",
    "    m2 = len(set(recom[:1]).intersection(bgt))\n",
    "    m1 = len(set(recom[:1]).intersection(bgt))/len(bgt)\n",
    "    train_seen_metric_1.append(m1)\n",
    "    train_seen_metric_2.append(m2)\n",
    "    train_seen_metric_3.append(m3)\n",
    "    train_seen_metric_4.append(m4)"
   ]
  },
  {
   "cell_type": "code",
   "execution_count": 81,
   "metadata": {
    "collapsed": true
   },
   "outputs": [],
   "source": [
    "ans1 = round(float(np.mean(train_seen_metric_1)), 2)\n",
    "ans2 = round(float(np.mean(train_seen_metric_2)), 2)\n",
    "ans3 = round(float(np.mean(train_seen_metric_3)), 2)\n",
    "ans4 = round(float(np.mean(train_seen_metric_4)), 2)"
   ]
  },
  {
   "cell_type": "code",
   "execution_count": 82,
   "metadata": {
    "collapsed": true
   },
   "outputs": [],
   "source": [
    "answer3 = []\n",
    "\n",
    "for i in [ans1, ans2, ans3, ans4]:\n",
    "    answer3.append(str(i))"
   ]
  },
  {
   "cell_type": "code",
   "execution_count": 72,
   "metadata": {
    "collapsed": true
   },
   "outputs": [],
   "source": [
    "def write_answer_3(x):\n",
    "    with open(\"answer3.txt\", \"w\") as fout:\n",
    "        fout.write(str(x))"
   ]
  },
  {
   "cell_type": "code",
   "execution_count": 83,
   "metadata": {
    "collapsed": true
   },
   "outputs": [],
   "source": [
    "write_answer_3(\" \".join(answer3))"
   ]
  },
  {
   "cell_type": "code",
   "execution_count": 75,
   "metadata": {
    "collapsed": true
   },
   "outputs": [],
   "source": [
    "del train_seen_cnt"
   ]
  }
 ],
 "metadata": {
  "kernelspec": {
   "display_name": "Python 3",
   "language": "python",
   "name": "python3"
  },
  "language_info": {
   "codemirror_mode": {
    "name": "ipython",
    "version": 3
   },
   "file_extension": ".py",
   "mimetype": "text/x-python",
   "name": "python",
   "nbconvert_exporter": "python",
   "pygments_lexer": "ipython3",
   "version": "3.6.3"
  }
 },
 "nbformat": 4,
 "nbformat_minor": 2
}
