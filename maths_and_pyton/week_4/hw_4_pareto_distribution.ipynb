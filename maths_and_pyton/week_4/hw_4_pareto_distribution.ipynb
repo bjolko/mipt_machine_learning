{
 "cells": [
  {
   "cell_type": "markdown",
   "metadata": {},
   "source": [
    "# Assignment: Центральная предельная теорема своими руками"
   ]
  },
  {
   "cell_type": "markdown",
   "metadata": {},
   "source": [
    "В этом задании вам предстоит проверить работу центральной предельной теоремы, а также поработать с генерацией случайных чисел и построением графиков в Питоне.\n",
    "\n",
    "Выберите ваше любимое непрерывное распределение (чем меньше оно будет похоже на нормальное, тем интереснее; попробуйте выбрать какое-нибудь распределение из тех, что мы не обсуждали в курсе). Сгенерируйте из него выборку объёма 1000, постройте гистограмму выборки и нарисуйте поверх неё теоретическую плотность распределения вашей случайной величины.\n",
    "\n",
    "Для нескольких значений `n` (например, 5, 10, 50) сгенерируйте 1000 выборок объёма n и постройте гистограммы распределений их выборочных средних. Используя информацию о среднем и дисперсии исходного распределения (её можно без труда найти в википедии), посчитайте значения параметров нормальных распределений, которыми, согласно центральной предельной теореме, приближается распределение выборочных средних. \n",
    "\n",
    "**Обратите внимание:** для подсчёта значений этих параметров нужно использовать именно теоретические среднее и дисперсию вашей случайной величины, а не их выборочные оценки. Поверх каждой гистограммы нарисуйте плотность соответствующего нормального распределения.\n",
    "\n",
    "Опишите разницу между полученными распределениями при различных значениях n. Как меняется точность аппроксимации распределения выборочных средних нормальным с ростом n?\n",
    "\n",
    "Решение должно представлять собой IPython-ноутбук, содержащий:\n",
    "\n",
    "* код, генерирующий выборки и графики;\n",
    "* краткие описания каждого блока кода, объясняющие, что он делает;\n",
    "* необходимые графики (убедитесь, что на них подписаны оси);\n",
    "* выкладки с вычислениями параметров нормальных распределений, аппроксимирующих выборочные средние при различных n;\n",
    "* выводы по результатам выполнения задания."
   ]
  },
  {
   "cell_type": "markdown",
   "metadata": {},
   "source": [
    "# Решение "
   ]
  },
  {
   "cell_type": "markdown",
   "metadata": {},
   "source": [
    "## Распределение Парето "
   ]
  },
  {
   "cell_type": "markdown",
   "metadata": {},
   "source": [
    "[Распределение Парето](https://ru.wikipedia.org/wiki/%D0%A0%D0%B0%D1%81%D0%BF%D1%80%D0%B5%D0%B4%D0%B5%D0%BB%D0%B5%D0%BD%D0%B8%D0%B5_%D0%9F%D0%B0%D1%80%D0%B5%D1%82%D0%BE) - двухпараметрическое семейство абсолютно непрерывных распределений, являющихся степенными. Называется по имени Вилфредо Парето. Встречается при исследовании различных явлений, в частности, социальных, экономических, физических и других. Вне области экономики иногда называется также распределением Брэдфорда."
   ]
  },
  {
   "cell_type": "markdown",
   "metadata": {},
   "source": [
    "**Основные формулы распределения Парето:**\n",
    "\n",
    "$$    \n",
    "\\begin{align}\n",
    "    f(x) = \\frac{kx^{k}_{m}}{x^{k + 1}} \\: (1) && EX = \\frac{kx_{m}}{k - 1}, \\: k > 1 \\: (2) && DX = (\\frac{x_{m}}{k - 1})^2\\frac{k}{k - 2}, \\: k > 2 \\: (3)\n",
    "\\end{align}\n",
    "$$"
   ]
  },
  {
   "cell_type": "markdown",
   "metadata": {},
   "source": [
    "**Центральная предельная теорема:**\n",
    "\n",
    " \n",
    "$$    \n",
    "\\begin{align}\n",
    "    \\overline{X}_n  \\approx  \\sim N(EX, \\frac{DX}{n}) \\: (4)\n",
    "\\end{align}\n",
    "$$\n"
   ]
  },
  {
   "cell_type": "markdown",
   "metadata": {},
   "source": [
    "**Функция плотности нормального распределения (Функция Гаусса):**\n",
    "\n",
    "$$    \n",
    "\\begin{align}\n",
    "     f(x) = \\frac{1}{ \\sigma  \\sqrt{2 \\pi } } e^-\\frac{(x -  \\mu)^2}{2 \\sigma ^2} \\: (5)\n",
    "\\end{align}\n",
    "$$\n",
    "    \n",
    "    "
   ]
  },
  {
   "cell_type": "markdown",
   "metadata": {},
   "source": [
    "### Импорт библиотек и график распределения "
   ]
  },
  {
   "cell_type": "code",
   "execution_count": 28,
   "metadata": {},
   "outputs": [
    {
     "data": {
      "image/png": "[encoded data removed]",
      "text/plain": [
       "<matplotlib.figure.Figure at 0x179f0442908>"
      ]
     },
     "metadata": {},
     "output_type": "display_data"
    }
   ],
   "source": [
    "import numpy as np\n",
    "import matplotlib.pyplot as plt\n",
    "\n",
    "k, x = 10., 1.\n",
    "s = (np.random.pareto(k, 1000) + 1) * x\n",
    "\n",
    "count, bins, _ = plt.hist(s, 100, normed=True)\n",
    "fit = k*x**k / bins**(k+1) #Формула плотности распределения Парето (1)\n",
    "plt.plot(bins, max(count)*fit/max(fit), linewidth = 2, color='r') #Приведение плотности распределения к масштабу графика\n",
    "plt.xlabel('Value')\n",
    "plt.ylabel('Frequency')\n",
    "plt.title('Histogram and Density Plots')\n",
    "plt.show()"
   ]
  },
  {
   "cell_type": "markdown",
   "metadata": {},
   "source": [
    "### Расчет теоретических среднего и дисперсии"
   ]
  },
  {
   "cell_type": "code",
   "execution_count": 31,
   "metadata": {},
   "outputs": [],
   "source": [
    "#среднее (2)\n",
    "mu = k*x/(k-1) \n",
    "\n",
    "#дисперсия (3)\n",
    "sigma = ((x/(k-1))**(1/2))*(k/(k-2))"
   ]
  },
  {
   "cell_type": "markdown",
   "metadata": {},
   "source": [
    "### Генерация выборок при разных n "
   ]
  },
  {
   "cell_type": "code",
   "execution_count": 32,
   "metadata": {
    "collapsed": true
   },
   "outputs": [],
   "source": [
    "#Список выборочных средних (avgs) будет состоять из трех подсписков (new_avgs), \n",
    "#каждый из которых будет содержать 1000 выборочных средних для разных n (7, 17, 77) \n",
    "\n",
    "avgs = []\n",
    "\n",
    "for n in (7, 17, 77):\n",
    "    new_avgs = []\n",
    "    for i in range(0, 1000):\n",
    "        sample = (np.random.pareto(k, n) + 1) * x\n",
    "        new_avgs.append(np.mean(sample))\n",
    "        i += 1\n",
    "    avgs.append(new_avgs)    "
   ]
  },
  {
   "cell_type": "markdown",
   "metadata": {},
   "source": [
    "### Функции для расчета среднеквадратического отклонения и плотности вероятности"
   ]
  },
  {
   "cell_type": "code",
   "execution_count": 41,
   "metadata": {
    "collapsed": true
   },
   "outputs": [],
   "source": [
    "#Среднеквадратическое отклонение по ЦПТ для различных n (4)\n",
    "def normal_deviation(n):\n",
    "    return (sigma/n)**(1/2)\n",
    "\n",
    "#Функция плотности вероятности нормального распределения для построения графика (5)\n",
    "def normal_density(n, bins = bins, mu = mu, sigma = sigma):\n",
    "    return (1 / (np.sqrt(2 * np.pi) * normal_deviation(n))) * \\\n",
    "    (np.power(np.e, -(np.power((bins - mu), 2) / (2 * np.power(normal_deviation(n), 2))))) "
   ]
  },
  {
   "cell_type": "markdown",
   "metadata": {},
   "source": [
    "### Графики "
   ]
  },
  {
   "cell_type": "code",
   "execution_count": 48,
   "metadata": {},
   "outputs": [
    {
     "data": {
      "image/png": "[encoded data removed]",
      "text/plain": [
       "<matplotlib.figure.Figure at 0x179f1d87390>"
      ]
     },
     "metadata": {},
     "output_type": "display_data"
    }
   ],
   "source": [
    "f, (ax1, ax2, ax3) = plt.subplots(1, 3, sharey=True, sharex = True)\n",
    "f.add_subplot(111, frameon=False)\n",
    "plt.suptitle('Pareto Histogram', fontsize=16)\n",
    "plt.tick_params(labelcolor='none', top='off', bottom='off', left='off', right='off')\n",
    "plt.grid(False)\n",
    "plt.xlabel(\"Value\")\n",
    "plt.ylabel(\"Frequency\")\n",
    "count, bins, _ = ax1.hist(avgs[0], edgecolor = \"black\", normed = True)\n",
    "ax1.plot(bins, max(count)*normal_density(7)/max(normal_density(7)), linewidth = 2, color='r')\n",
    "ax1.set_title('n = 7')\n",
    "count, bins, _ = ax2.hist(avgs[1], edgecolor = \"black\", normed=True)\n",
    "ax2.plot(bins, max(count)*normal_density(7)/max(normal_density(7)), linewidth = 2, color='r')\n",
    "ax2.set_title('n = 17')\n",
    "count, bins, _ = ax3.hist(avgs[2], edgecolor = \"black\", normed=True)\n",
    "ax3.plot(bins, max(count)*normal_density(7)/max(normal_density(7)), linewidth = 2, color='r')\n",
    "ax3.set_title('n = 77')\n",
    "plt.show()"
   ]
  },
  {
   "cell_type": "markdown",
   "metadata": {},
   "source": [
    "### Вывод "
   ]
  },
  {
   "cell_type": "markdown",
   "metadata": {},
   "source": [
    "На графике видим, что с ростом количества наблюдений в выборках (n) увеличивается точность аппроксимации, иными словами, распределение выборочных средних приближается к нормальному. Также наблюдаем, что распределение смещенное (skew), с левой стороны средних меньше, чем с правой."
   ]
  }
 ],
 "metadata": {
  "kernelspec": {
   "display_name": "Python 3",
   "language": "python",
   "name": "python3"
  },
  "language_info": {
   "codemirror_mode": {
    "name": "ipython",
    "version": 3
   },
   "file_extension": ".py",
   "mimetype": "text/x-python",
   "name": "python",
   "nbconvert_exporter": "python",
   "pygments_lexer": "ipython3",
   "version": "3.6.3"
  }
 },
 "nbformat": 4,
 "nbformat_minor": 1
}
